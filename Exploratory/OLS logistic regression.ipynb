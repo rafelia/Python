{
 "cells": [
  {
   "cell_type": "code",
   "execution_count": 1,
   "id": "836ce4c3-55c5-44a3-bca8-1879a1a30754",
   "metadata": {},
   "outputs": [],
   "source": [
    "import pandas as pd\n",
    "import numpy as np\n",
    "import seaborn as sns\n",
    "import matplotlib.pyplot as plt\n",
    "from statsmodels.formula.api import ols\n",
    "from statsmodels.formula.api import logit\n",
    "from statsmodels.graphics.mosaicplot import mosaic\n",
    "\n",
    "from sklearn.datasets import make_classification"
   ]
  },
  {
   "cell_type": "code",
   "execution_count": 2,
   "id": "a6842402-e757-4cbb-8648-309ea9f5a399",
   "metadata": {},
   "outputs": [],
   "source": [
    "# Generate a classification dataset with a binary target\n",
    "X, y = make_classification(n_samples=100, n_features=3, n_informative=2, n_redundant=0, n_classes=2, random_state=42)\n",
    "\n",
    "# Convert to DataFrame\n",
    "df = pd.DataFrame(X, columns=['feature_1', 'feature_2', 'feature_3'])\n",
    "df['target'] = y"
   ]
  },
  {
   "cell_type": "code",
   "execution_count": 3,
   "id": "d48ea3e3-7390-4e6a-b7e4-96fbe4905f80",
   "metadata": {},
   "outputs": [],
   "source": [
    "df = pd.read_csv('car_insurance.csv')\n",
    "df.dropna(inplace = True)"
   ]
  },
  {
   "cell_type": "code",
   "execution_count": 4,
   "id": "bd38db5f-a04f-4fc3-819e-26ed83de1a1c",
   "metadata": {},
   "outputs": [
    {
     "data": {
      "text/html": [
       "<div>\n",
       "<style scoped>\n",
       "    .dataframe tbody tr th:only-of-type {\n",
       "        vertical-align: middle;\n",
       "    }\n",
       "\n",
       "    .dataframe tbody tr th {\n",
       "        vertical-align: top;\n",
       "    }\n",
       "\n",
       "    .dataframe thead th {\n",
       "        text-align: right;\n",
       "    }\n",
       "</style>\n",
       "<table border=\"1\" class=\"dataframe\">\n",
       "  <thead>\n",
       "    <tr style=\"text-align: right;\">\n",
       "      <th></th>\n",
       "      <th>id</th>\n",
       "      <th>age</th>\n",
       "      <th>gender</th>\n",
       "      <th>driving_experience</th>\n",
       "      <th>education</th>\n",
       "      <th>income</th>\n",
       "      <th>credit_score</th>\n",
       "      <th>vehicle_ownership</th>\n",
       "      <th>vehicle_year</th>\n",
       "      <th>married</th>\n",
       "      <th>children</th>\n",
       "      <th>postal_code</th>\n",
       "      <th>annual_mileage</th>\n",
       "      <th>vehicle_type</th>\n",
       "      <th>speeding_violations</th>\n",
       "      <th>duis</th>\n",
       "      <th>past_accidents</th>\n",
       "      <th>outcome</th>\n",
       "    </tr>\n",
       "  </thead>\n",
       "  <tbody>\n",
       "    <tr>\n",
       "      <th>0</th>\n",
       "      <td>569520</td>\n",
       "      <td>3</td>\n",
       "      <td>0</td>\n",
       "      <td>0-9y</td>\n",
       "      <td>high school</td>\n",
       "      <td>upper class</td>\n",
       "      <td>0.629027</td>\n",
       "      <td>1.0</td>\n",
       "      <td>after 2015</td>\n",
       "      <td>0.0</td>\n",
       "      <td>1.0</td>\n",
       "      <td>10238</td>\n",
       "      <td>12000.0</td>\n",
       "      <td>sedan</td>\n",
       "      <td>0</td>\n",
       "      <td>0</td>\n",
       "      <td>0</td>\n",
       "      <td>0.0</td>\n",
       "    </tr>\n",
       "    <tr>\n",
       "      <th>1</th>\n",
       "      <td>750365</td>\n",
       "      <td>0</td>\n",
       "      <td>1</td>\n",
       "      <td>0-9y</td>\n",
       "      <td>none</td>\n",
       "      <td>poverty</td>\n",
       "      <td>0.357757</td>\n",
       "      <td>0.0</td>\n",
       "      <td>before 2015</td>\n",
       "      <td>0.0</td>\n",
       "      <td>0.0</td>\n",
       "      <td>10238</td>\n",
       "      <td>16000.0</td>\n",
       "      <td>sedan</td>\n",
       "      <td>0</td>\n",
       "      <td>0</td>\n",
       "      <td>0</td>\n",
       "      <td>1.0</td>\n",
       "    </tr>\n",
       "    <tr>\n",
       "      <th>2</th>\n",
       "      <td>199901</td>\n",
       "      <td>0</td>\n",
       "      <td>0</td>\n",
       "      <td>0-9y</td>\n",
       "      <td>high school</td>\n",
       "      <td>working class</td>\n",
       "      <td>0.493146</td>\n",
       "      <td>1.0</td>\n",
       "      <td>before 2015</td>\n",
       "      <td>0.0</td>\n",
       "      <td>0.0</td>\n",
       "      <td>10238</td>\n",
       "      <td>11000.0</td>\n",
       "      <td>sedan</td>\n",
       "      <td>0</td>\n",
       "      <td>0</td>\n",
       "      <td>0</td>\n",
       "      <td>0.0</td>\n",
       "    </tr>\n",
       "    <tr>\n",
       "      <th>3</th>\n",
       "      <td>478866</td>\n",
       "      <td>0</td>\n",
       "      <td>1</td>\n",
       "      <td>0-9y</td>\n",
       "      <td>university</td>\n",
       "      <td>working class</td>\n",
       "      <td>0.206013</td>\n",
       "      <td>1.0</td>\n",
       "      <td>before 2015</td>\n",
       "      <td>0.0</td>\n",
       "      <td>1.0</td>\n",
       "      <td>32765</td>\n",
       "      <td>11000.0</td>\n",
       "      <td>sedan</td>\n",
       "      <td>0</td>\n",
       "      <td>0</td>\n",
       "      <td>0</td>\n",
       "      <td>0.0</td>\n",
       "    </tr>\n",
       "    <tr>\n",
       "      <th>4</th>\n",
       "      <td>731664</td>\n",
       "      <td>1</td>\n",
       "      <td>1</td>\n",
       "      <td>10-19y</td>\n",
       "      <td>none</td>\n",
       "      <td>working class</td>\n",
       "      <td>0.388366</td>\n",
       "      <td>1.0</td>\n",
       "      <td>before 2015</td>\n",
       "      <td>0.0</td>\n",
       "      <td>0.0</td>\n",
       "      <td>32765</td>\n",
       "      <td>12000.0</td>\n",
       "      <td>sedan</td>\n",
       "      <td>2</td>\n",
       "      <td>0</td>\n",
       "      <td>1</td>\n",
       "      <td>1.0</td>\n",
       "    </tr>\n",
       "  </tbody>\n",
       "</table>\n",
       "</div>"
      ],
      "text/plain": [
       "       id  age  gender driving_experience    education         income  \\\n",
       "0  569520    3       0               0-9y  high school    upper class   \n",
       "1  750365    0       1               0-9y         none        poverty   \n",
       "2  199901    0       0               0-9y  high school  working class   \n",
       "3  478866    0       1               0-9y   university  working class   \n",
       "4  731664    1       1             10-19y         none  working class   \n",
       "\n",
       "   credit_score  vehicle_ownership vehicle_year  married  children  \\\n",
       "0      0.629027                1.0   after 2015      0.0       1.0   \n",
       "1      0.357757                0.0  before 2015      0.0       0.0   \n",
       "2      0.493146                1.0  before 2015      0.0       0.0   \n",
       "3      0.206013                1.0  before 2015      0.0       1.0   \n",
       "4      0.388366                1.0  before 2015      0.0       0.0   \n",
       "\n",
       "   postal_code  annual_mileage vehicle_type  speeding_violations  duis  \\\n",
       "0        10238         12000.0        sedan                    0     0   \n",
       "1        10238         16000.0        sedan                    0     0   \n",
       "2        10238         11000.0        sedan                    0     0   \n",
       "3        32765         11000.0        sedan                    0     0   \n",
       "4        32765         12000.0        sedan                    2     0   \n",
       "\n",
       "   past_accidents  outcome  \n",
       "0               0      0.0  \n",
       "1               0      1.0  \n",
       "2               0      0.0  \n",
       "3               0      0.0  \n",
       "4               1      1.0  "
      ]
     },
     "execution_count": 4,
     "metadata": {},
     "output_type": "execute_result"
    }
   ],
   "source": [
    "# Display the first few rows of the dataset\n",
    "df.head()"
   ]
  },
  {
   "cell_type": "markdown",
   "id": "6f222153-f757-498c-831e-c87fcb824e46",
   "metadata": {},
   "source": [
    "--------------\n",
    "\n",
    "Differences between ols and logistic regression using classification dataset"
   ]
  },
  {
   "cell_type": "code",
   "execution_count": 5,
   "id": "a0b4da84-3ca6-4297-855e-a0757427b227",
   "metadata": {},
   "outputs": [
    {
     "name": "stdout",
     "output_type": "stream",
     "text": [
      "Intercept        -0.04343\n",
      "annual_mileage    0.00003\n",
      "dtype: float64\n"
     ]
    },
    {
     "data": {
      "image/png": "[encoded data removed]",
      "text/plain": [
       "<Figure size 432x288 with 1 Axes>"
      ]
     },
     "metadata": {
      "needs_background": "light"
     },
     "output_type": "display_data"
    }
   ],
   "source": [
    "mdl = ols(\"outcome ~ annual_mileage\", data=df).fit()\n",
    "print(mdl.params)\n",
    "intercept, slope = mdl.params\n",
    "sns.scatterplot(x=\"annual_mileage\",\n",
    "                y=\"outcome\",\n",
    "                data=df)\n",
    "plt.axline(xy1=(0, intercept),\n",
    "          slope=slope)\n",
    "plt.show()"
   ]
  },
  {
   "cell_type": "code",
   "execution_count": 6,
   "id": "2688479b-c064-4352-b1fc-fd715e56f4b0",
   "metadata": {},
   "outputs": [
    {
     "data": {
      "image/png": "[encoded data removed]",
      "text/plain": [
       "<Figure size 432x288 with 1 Axes>"
      ]
     },
     "metadata": {
      "needs_background": "light"
     },
     "output_type": "display_data"
    }
   ],
   "source": [
    "sns.scatterplot(x=\"annual_mileage\",\n",
    "                y=\"outcome\",\n",
    "                data=df)\n",
    "plt.axline(xy1=(0,intercept),\n",
    "           slope=slope)\n",
    "plt.xlim(-10000, 40000)\n",
    "plt.ylim(-0.2, 1.2)\n",
    "plt.show()"
   ]
  },
  {
   "cell_type": "markdown",
   "id": "6e998956-a9b2-4828-89b3-092dd03d1139",
   "metadata": {},
   "source": [
    "you can see the regression line going to negative probabilities, which is impossible (solution next)"
   ]
  },
  {
   "cell_type": "code",
   "execution_count": 7,
   "id": "55ad0516-7cbf-4d48-b083-8e4ef579804d",
   "metadata": {},
   "outputs": [
    {
     "name": "stdout",
     "output_type": "stream",
     "text": [
      "Optimization terminated successfully.\n",
      "         Current function value: 0.602726\n",
      "         Iterations 5\n",
      "Intercept        -2.530382\n",
      "annual_mileage    0.000146\n",
      "dtype: float64\n"
     ]
    }
   ],
   "source": [
    "mdl_logit = logit(\"outcome ~ annual_mileage\", data=df).fit()\n",
    "print(mdl_logit.params)"
   ]
  },
  {
   "cell_type": "code",
   "execution_count": 8,
   "id": "79f0af60-9f76-4318-b4ef-c08c3da20044",
   "metadata": {},
   "outputs": [
    {
     "data": {
      "image/png": "[encoded data removed]",
      "text/plain": [
       "<Figure size 432x288 with 1 Axes>"
      ]
     },
     "metadata": {
      "needs_background": "light"
     },
     "output_type": "display_data"
    }
   ],
   "source": [
    "sns.regplot(x=\"annual_mileage\",\n",
    "            y=\"outcome\",\n",
    "            data=df,\n",
    "            ci=None,\n",
    "            line_kws={\"color\": \"red\"}, # the colour of the trend line\n",
    "            logistic=True) # for logistic regression\n",
    "plt.axline(xy1=(0, intercept),\n",
    "          slope=slope)\n",
    "plt.show()"
   ]
  },
  {
   "cell_type": "markdown",
   "id": "5d482713-0951-4771-b401-2713ccc75b17",
   "metadata": {},
   "source": [
    "With logistic regression, the trend line never becomes above 1 or negative"
   ]
  },
  {
   "cell_type": "markdown",
   "id": "1fc7ab12-7435-42b2-9765-398d74de37b7",
   "metadata": {},
   "source": [
    "### Prediction with logistic regression"
   ]
  },
  {
   "cell_type": "code",
   "execution_count": 9,
   "id": "56fe00e8-a8f1-4f65-932c-92593fe69929",
   "metadata": {},
   "outputs": [
    {
     "name": "stdout",
     "output_type": "stream",
     "text": [
      "Optimization terminated successfully.\n",
      "         Current function value: 0.602726\n",
      "         Iterations 5\n"
     ]
    },
    {
     "data": {
      "image/png": "[encoded data removed]",
      "text/plain": [
       "<Figure size 432x288 with 1 Axes>"
      ]
     },
     "metadata": {
      "needs_background": "light"
     },
     "output_type": "display_data"
    }
   ],
   "source": [
    "mdl_recency = logit(\"outcome ~ annual_mileage\",\n",
    "                    data = df).fit()\n",
    "\n",
    "explanatory_data = pd.DataFrame(\n",
    "  {\"annual_mileage\": np.arange(-20000, 60000, 2000)})\n",
    "\n",
    "prediction_data = explanatory_data.assign(    \n",
    "  outcome = mdl_recency.predict(explanatory_data))\n",
    "\n",
    "# Adding point predictions\n",
    "sns.regplot(x=\"annual_mileage\",\n",
    "            y=\"outcome\",\n",
    "            data=df,\n",
    "            ci=None,\n",
    "            logistic=True)\n",
    "\n",
    "sns.scatterplot(x=\"annual_mileage\", # add the prediction data with red colour\n",
    "                y=\"outcome\",\n",
    "                data=prediction_data,\n",
    "                color=\"red\")\n",
    "plt.show()"
   ]
  },
  {
   "cell_type": "markdown",
   "id": "82e09618-2ab0-4918-8f31-647d90135143",
   "metadata": {},
   "source": [
    "#### The prediction following the trend line"
   ]
  },
  {
   "cell_type": "code",
   "execution_count": 10,
   "id": "228f62c0-ff85-41ee-bbd1-1ea10efce76f",
   "metadata": {},
   "outputs": [
    {
     "data": {
      "image/png": "[encoded data removed]",
      "text/plain": [
       "<Figure size 432x288 with 1 Axes>"
      ]
     },
     "metadata": {
      "needs_background": "light"
     },
     "output_type": "display_data"
    }
   ],
   "source": [
    "# Round the prediction output that means more than 0.5 -> 1, less 0.5 -> 0, because the churn is 0 or 1\n",
    "prediction_data = explanatory_data.assign(\n",
    "              outcome = mdl_recency.predict(explanatory_data))\n",
    "prediction_data[\"most_likely_outcome\"] = np.round(prediction_data[\"outcome\"])\n",
    "\n",
    "# Visualizing the most likely outcome - the new prediction \n",
    "sns.regplot(x=\"annual_mileage\",\n",
    "            y=\"outcome\",       \n",
    "            data=df,        \n",
    "            ci=None,        \n",
    "            logistic=True)\n",
    "\n",
    "sns.scatterplot(x=\"annual_mileage\", # add the most likely prediction data with red colour\n",
    "                y=\"most_likely_outcome\",       \n",
    "                data=prediction_data,        \n",
    "                color=\"red\")\n",
    "plt.show()"
   ]
  },
  {
   "cell_type": "code",
   "execution_count": 11,
   "id": "d73cd4f6-53c2-452a-9f97-668a138db78b",
   "metadata": {},
   "outputs": [
    {
     "name": "stdout",
     "output_type": "stream",
     "text": [
      "Prediction Data\n"
     ]
    },
    {
     "data": {
      "image/png": "[encoded data removed]",
      "text/plain": [
       "<Figure size 432x288 with 1 Axes>"
      ]
     },
     "metadata": {
      "needs_background": "light"
     },
     "output_type": "display_data"
    },
    {
     "name": "stdout",
     "output_type": "stream",
     "text": [
      "Prediction Data with Log Scale\n"
     ]
    },
    {
     "data": {
      "image/png": "[encoded data removed]",
      "text/plain": [
       "<Figure size 432x288 with 1 Axes>"
      ]
     },
     "metadata": {
      "needs_background": "light"
     },
     "output_type": "display_data"
    }
   ],
   "source": [
    "prediction_data[\"odds_ratio\"] = prediction_data[\"outcome\"] / (1 - prediction_data[\"outcome\"])\n",
    "\n",
    "print('Prediction Data')\n",
    "# Visualizing odds ratio\n",
    "sns.lineplot(x=\"annual_mileage\",  \n",
    "             y=\"odds_ratio\",        \n",
    "             data=prediction_data)\n",
    "\n",
    "plt.axhline(y=1,      \n",
    "            linestyle=\"dotted\")\n",
    "plt.show()\n",
    "\n",
    "print('Prediction Data with Log Scale')\n",
    "# Visualizing log odds ratio\n",
    "sns.lineplot(x=\"annual_mileage\",      \n",
    "             y=\"odds_ratio\",         \n",
    "             data=prediction_data)\n",
    "plt.axhline(y=1,        \n",
    "            linestyle=\"dotted\")\n",
    "plt.yscale(\"log\")\n",
    "plt.show()"
   ]
  },
  {
   "cell_type": "markdown",
   "id": "c3140698-a9ac-42e8-86d1-2a8a7bc55aee",
   "metadata": {},
   "source": [
    "### How efficient is the predicted data"
   ]
  },
  {
   "cell_type": "code",
   "execution_count": 12,
   "id": "06f9ca0e-14fb-465c-b720-d1f47122e067",
   "metadata": {},
   "outputs": [
    {
     "name": "stdout",
     "output_type": "stream",
     "text": [
      "outcome  predicted_response\n",
      "0.0      0.0                   5552\n",
      "         1.0                     61\n",
      "1.0      0.0                   2443\n",
      "         1.0                     93\n",
      "dtype: int64\n"
     ]
    }
   ],
   "source": [
    "# Confusion matrix: counts of outcomes\n",
    "actual_response = df[\"outcome\"]\n",
    "\n",
    "predicted_response = np.round(mdl_recency.predict()) # getting from the previous model\n",
    "\n",
    "outcomes = pd.DataFrame({\"outcome\": actual_response,\n",
    "                         \"predicted_response\": predicted_response})\n",
    "print(outcomes.value_counts(sort=False))"
   ]
  },
  {
   "cell_type": "code",
   "execution_count": 13,
   "id": "b55f1feb-20d7-4b85-93d4-4fa12835fb68",
   "metadata": {},
   "outputs": [
    {
     "data": {
      "image/png": "[encoded data removed]",
      "text/plain": [
       "<Figure size 432x288 with 3 Axes>"
      ]
     },
     "metadata": {
      "needs_background": "light"
     },
     "output_type": "display_data"
    }
   ],
   "source": [
    "conf_matrix = mdl_recency.pred_table()\n",
    "\n",
    "mosaic(conf_matrix)\n",
    "plt.show()"
   ]
  },
  {
   "cell_type": "markdown",
   "id": "54986b06-e6b1-461a-adff-0c1915a5801b",
   "metadata": {},
   "source": [
    "### Evaluate other measures"
   ]
  },
  {
   "cell_type": "code",
   "execution_count": 14,
   "id": "deec3352-8cfd-4381-b385-4742745316b7",
   "metadata": {},
   "outputs": [],
   "source": [
    "TN = conf_matrix[0,0]\n",
    "TP = conf_matrix[1,1]\n",
    "FN = conf_matrix[1,0]\n",
    "FP = conf_matrix[0,1]"
   ]
  },
  {
   "cell_type": "markdown",
   "id": "263ecd2a-7861-41a7-a6e1-6ee7d54631cd",
   "metadata": {},
   "source": [
    "----------------"
   ]
  },
  {
   "cell_type": "markdown",
   "id": "9b03c5ac-e940-4465-99fe-59e349369822",
   "metadata": {},
   "source": [
    "#### Accuracy is the proportion of correct predictions.\n",
    "\n",
    "Higher is better"
   ]
  },
  {
   "cell_type": "code",
   "execution_count": 15,
   "id": "f5a0d649-90d3-423a-8a7e-76dd9ba17b59",
   "metadata": {},
   "outputs": [
    {
     "name": "stdout",
     "output_type": "stream",
     "text": [
      "0.692723033501043\n"
     ]
    }
   ],
   "source": [
    "acc = (TN + TP) / (TN + TP + FN + FP)\n",
    "print(acc)"
   ]
  },
  {
   "cell_type": "markdown",
   "id": "6f899869-73a7-4ba8-8eb0-34b329d41bdc",
   "metadata": {},
   "source": [
    "-----------------------"
   ]
  },
  {
   "cell_type": "markdown",
   "id": "cb31a4fb-1a87-481e-83f8-2cef33c62b4b",
   "metadata": {},
   "source": [
    "#### Sensitivity is the proportion of true positives.\n",
    "\n",
    "Higher is better"
   ]
  },
  {
   "cell_type": "code",
   "execution_count": 16,
   "id": "345b04ca-6ebd-4f31-9ab0-1bf6ce4e7fa8",
   "metadata": {},
   "outputs": [
    {
     "name": "stdout",
     "output_type": "stream",
     "text": [
      "0.03667192429022082\n"
     ]
    }
   ],
   "source": [
    "sens = TP / (FN + TP)\n",
    "print(sens)"
   ]
  },
  {
   "cell_type": "markdown",
   "id": "d47d26f9-fd20-4339-9805-fc4f2e4cee6a",
   "metadata": {},
   "source": [
    "---"
   ]
  },
  {
   "cell_type": "markdown",
   "id": "a13f5c4f-46c7-410f-ab7f-76561ca76530",
   "metadata": {},
   "source": [
    "#### Specicity is the proportion of true negatives.\n",
    "\n",
    "Higher is better"
   ]
  },
  {
   "cell_type": "code",
   "execution_count": 17,
   "id": "816d87ce-ad2e-4eb1-a0a5-08b04f8cd26a",
   "metadata": {},
   "outputs": [
    {
     "name": "stdout",
     "output_type": "stream",
     "text": [
      "0.9891323712809549\n"
     ]
    }
   ],
   "source": [
    "spec = TN / (TN + FP)\n",
    "print(spec)"
   ]
  },
  {
   "cell_type": "markdown",
   "id": "94ae8b92-b199-48b1-adcd-7cb2c26cbeb2",
   "metadata": {},
   "source": [
    "---\n",
    "#### where improving specificity will decrease sensitivity, or increasing sensitivity will decrease specificity."
   ]
  }
 ],
 "metadata": {
  "kernelspec": {
   "display_name": "Python 3 (ipykernel)",
   "language": "python",
   "name": "python3"
  },
  "language_info": {
   "codemirror_mode": {
    "name": "ipython",
    "version": 3
   },
   "file_extension": ".py",
   "mimetype": "text/x-python",
   "name": "python",
   "nbconvert_exporter": "python",
   "pygments_lexer": "ipython3",
   "version": "3.8.10"
  }
 },
 "nbformat": 4,
 "nbformat_minor": 5
}
