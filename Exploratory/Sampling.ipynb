{
 "cells": [
  {
   "cell_type": "code",
   "execution_count": 1,
   "id": "1350e11e-399d-404d-a523-2f338d4ad7bf",
   "metadata": {},
   "outputs": [],
   "source": [
    "import pandas as pd\n",
    "import numpy as np\n",
    "import matplotlib.pyplot as plt"
   ]
  },
  {
   "cell_type": "markdown",
   "id": "7ee51264-b129-4ff1-9db5-bf13c14c6ba6",
   "metadata": {},
   "source": [
    "##### With sampling, we treat the dataset as the population and move to a smaller sample. With bootstrapping, we treat the dataset as a sample and use it to build up a theoretical population."
   ]
  },
  {
   "cell_type": "markdown",
   "id": "61b9e888-33b2-4f41-9e9b-6dac2b849338",
   "metadata": {},
   "source": [
    "### Sampling"
   ]
  },
  {
   "cell_type": "code",
   "execution_count": 2,
   "id": "5ad040a2-5a9e-4b83-af8b-96f1556d7d6d",
   "metadata": {},
   "outputs": [],
   "source": [
    "df_samp = pd.read_csv('taiwan_real_estate.csv')"
   ]
  },
  {
   "cell_type": "code",
   "execution_count": 3,
   "id": "d6968f05-06d2-4e16-850b-92880b16cf08",
   "metadata": {},
   "outputs": [
    {
     "data": {
      "text/plain": [
       "array(['30 to 45', '15 to 30', '0 to 15'], dtype=object)"
      ]
     },
     "execution_count": 3,
     "metadata": {},
     "output_type": "execute_result"
    }
   ],
   "source": [
    "df_samp['house_age_years'].unique()"
   ]
  },
  {
   "cell_type": "code",
   "execution_count": 4,
   "id": "26a00a69-415c-42e8-a00e-5c500a7ccec6",
   "metadata": {},
   "outputs": [
    {
     "data": {
      "text/html": [
       "<div>\n",
       "<style scoped>\n",
       "    .dataframe tbody tr th:only-of-type {\n",
       "        vertical-align: middle;\n",
       "    }\n",
       "\n",
       "    .dataframe tbody tr th {\n",
       "        vertical-align: top;\n",
       "    }\n",
       "\n",
       "    .dataframe thead th {\n",
       "        text-align: right;\n",
       "    }\n",
       "</style>\n",
       "<table border=\"1\" class=\"dataframe\">\n",
       "  <thead>\n",
       "    <tr style=\"text-align: right;\">\n",
       "      <th></th>\n",
       "      <th>dist_to_mrt_m</th>\n",
       "      <th>n_convenience</th>\n",
       "      <th>house_age_years</th>\n",
       "      <th>price_twd_msq</th>\n",
       "    </tr>\n",
       "  </thead>\n",
       "  <tbody>\n",
       "    <tr>\n",
       "      <th>0</th>\n",
       "      <td>84.87882</td>\n",
       "      <td>10</td>\n",
       "      <td>30 to 45</td>\n",
       "      <td>11.467474</td>\n",
       "    </tr>\n",
       "    <tr>\n",
       "      <th>1</th>\n",
       "      <td>306.59470</td>\n",
       "      <td>9</td>\n",
       "      <td>15 to 30</td>\n",
       "      <td>12.768533</td>\n",
       "    </tr>\n",
       "    <tr>\n",
       "      <th>2</th>\n",
       "      <td>561.98450</td>\n",
       "      <td>5</td>\n",
       "      <td>0 to 15</td>\n",
       "      <td>14.311649</td>\n",
       "    </tr>\n",
       "    <tr>\n",
       "      <th>3</th>\n",
       "      <td>561.98450</td>\n",
       "      <td>5</td>\n",
       "      <td>0 to 15</td>\n",
       "      <td>16.580938</td>\n",
       "    </tr>\n",
       "    <tr>\n",
       "      <th>4</th>\n",
       "      <td>390.56840</td>\n",
       "      <td>5</td>\n",
       "      <td>0 to 15</td>\n",
       "      <td>13.040847</td>\n",
       "    </tr>\n",
       "    <tr>\n",
       "      <th>...</th>\n",
       "      <td>...</td>\n",
       "      <td>...</td>\n",
       "      <td>...</td>\n",
       "      <td>...</td>\n",
       "    </tr>\n",
       "    <tr>\n",
       "      <th>409</th>\n",
       "      <td>4082.01500</td>\n",
       "      <td>0</td>\n",
       "      <td>0 to 15</td>\n",
       "      <td>4.659607</td>\n",
       "    </tr>\n",
       "    <tr>\n",
       "      <th>410</th>\n",
       "      <td>90.45606</td>\n",
       "      <td>9</td>\n",
       "      <td>0 to 15</td>\n",
       "      <td>15.128593</td>\n",
       "    </tr>\n",
       "    <tr>\n",
       "      <th>411</th>\n",
       "      <td>390.96960</td>\n",
       "      <td>7</td>\n",
       "      <td>15 to 30</td>\n",
       "      <td>12.284418</td>\n",
       "    </tr>\n",
       "    <tr>\n",
       "      <th>412</th>\n",
       "      <td>104.81010</td>\n",
       "      <td>5</td>\n",
       "      <td>0 to 15</td>\n",
       "      <td>15.885023</td>\n",
       "    </tr>\n",
       "    <tr>\n",
       "      <th>413</th>\n",
       "      <td>90.45606</td>\n",
       "      <td>9</td>\n",
       "      <td>0 to 15</td>\n",
       "      <td>19.334342</td>\n",
       "    </tr>\n",
       "  </tbody>\n",
       "</table>\n",
       "<p>414 rows × 4 columns</p>\n",
       "</div>"
      ],
      "text/plain": [
       "     dist_to_mrt_m  n_convenience house_age_years  price_twd_msq\n",
       "0         84.87882             10        30 to 45      11.467474\n",
       "1        306.59470              9        15 to 30      12.768533\n",
       "2        561.98450              5         0 to 15      14.311649\n",
       "3        561.98450              5         0 to 15      16.580938\n",
       "4        390.56840              5         0 to 15      13.040847\n",
       "..             ...            ...             ...            ...\n",
       "409     4082.01500              0         0 to 15       4.659607\n",
       "410       90.45606              9         0 to 15      15.128593\n",
       "411      390.96960              7        15 to 30      12.284418\n",
       "412      104.81010              5         0 to 15      15.885023\n",
       "413       90.45606              9         0 to 15      19.334342\n",
       "\n",
       "[414 rows x 4 columns]"
      ]
     },
     "execution_count": 4,
     "metadata": {},
     "output_type": "execute_result"
    }
   ],
   "source": [
    "df_samp"
   ]
  },
  {
   "cell_type": "code",
   "execution_count": 5,
   "id": "160f6b53-6263-417c-8c4a-912be5511c6e",
   "metadata": {},
   "outputs": [
    {
     "name": "stdout",
     "output_type": "stream",
     "text": [
      "Sample mean 10.850226928895468\n",
      "Original mean 11.491737741819808\n"
     ]
    }
   ],
   "source": [
    "# Getting sample\n",
    "df_samp_10 = df_samp['price_twd_msq'].sample(n=10)\n",
    "\n",
    "print(f\"Sample mean {np.mean(df_samp_10)}\")\n",
    "print(f\"Original mean {np.mean(df_samp['price_twd_msq'])}\")"
   ]
  },
  {
   "cell_type": "markdown",
   "id": "acef4c01-fd54-4bde-b9fd-3face4393f70",
   "metadata": {},
   "source": [
    "### Random Data"
   ]
  },
  {
   "cell_type": "markdown",
   "id": "87f2db46-60fb-4d4d-a656-a3dba200c490",
   "metadata": {},
   "source": [
    "Uniform and Normal Distribution\n",
    "\n",
    "Uniform - Flat, constant probability across the range - Min (a), Max (b) - Rolling a fair die, picking a random number in [0, 1] - Every outcome is equally likely\n",
    "\n",
    "Normal - Bell-shaped, symmetric around the mean - Mean (𝜇), Standard deviation (σ) - Heights, test scores, natural phenomena - Most outcomes are around the mean, fewer at extremes"
   ]
  },
  {
   "cell_type": "code",
   "execution_count": 6,
   "id": "7f08463e-7a04-4cf7-b862-38d3abed2f68",
   "metadata": {},
   "outputs": [
    {
     "name": "stdout",
     "output_type": "stream",
     "text": [
      "Uniform Distribution\n"
     ]
    },
    {
     "data": {
      "image/png": "[encoded data removed]",
      "text/plain": [
       "<Figure size 432x288 with 1 Axes>"
      ]
     },
     "metadata": {
      "needs_background": "light"
     },
     "output_type": "display_data"
    },
    {
     "name": "stdout",
     "output_type": "stream",
     "text": [
      "Normal Distribution\n"
     ]
    },
    {
     "data": {
      "image/png": "[encoded data removed]",
      "text/plain": [
       "<Figure size 432x288 with 1 Axes>"
      ]
     },
     "metadata": {
      "needs_background": "light"
     },
     "output_type": "display_data"
    }
   ],
   "source": [
    "# when you asked if uniform distribution is discrete\n",
    "# Generate random numbers from a Uniform(-3, 3)\n",
    "uniforms = np.random.uniform(low=-3, high=3, size=5000) # low Lower boundary - high Higher boundary\n",
    "\n",
    "# Generate random numbers from a Normal(5, 2)\n",
    "normals = np.random.normal(loc=5, scale=2, size=5000) # loc is the mean and scale is the std\n",
    "\n",
    "# Plot a histogram of uniform values, binwidth 0.25\n",
    "print('Uniform Distribution')\n",
    "plt.hist(uniforms, bins=np.arange(-3, 3.25, 0.25))\n",
    "plt.show()\n",
    "\n",
    "# Plot a histogram of normal values, binwidth 0.5\n",
    "print('Normal Distribution')\n",
    "plt.hist(normals, bins=np.arange(-2, 13.5, 0.5))\n",
    "plt.show()"
   ]
  },
  {
   "cell_type": "code",
   "execution_count": 7,
   "id": "6b824fa4-a24e-4a85-b04d-a3d1fe82516e",
   "metadata": {},
   "outputs": [
    {
     "name": "stdout",
     "output_type": "stream",
     "text": [
      "[-1.0856306   0.99734545  0.2829785  -1.50629471 -0.57860025] [ 1.65143654 -2.42667924 -0.42891263  1.26593626 -0.8667404 ]\n",
      "The values of x are different from those of y\n",
      "\n",
      "[-1.0856306   0.99734545  0.2829785  -1.50629471 -0.57860025] [-1.0856306   0.99734545  0.2829785  -1.50629471 -0.57860025]\n",
      "x and y have identical values\n",
      "\n",
      "[-1.0856306   0.99734545  0.2829785  -1.50629471 -0.57860025] [-0.6681285  -0.49820952  0.61857582  0.56869225  1.35050948]\n",
      "The values of x are different from those of y\n"
     ]
    }
   ],
   "source": [
    "# Seed\n",
    "import numpy as np\n",
    "np.random.seed(123)\n",
    "x = np.random.normal(size=5)\n",
    "y = np.random.normal(size=5)\n",
    "print(x,y)\n",
    "print('The values of x are different from those of y')\n",
    "\n",
    "print()\n",
    "import numpy as np\n",
    "np.random.seed(123)\n",
    "x = np.random.normal(size=5)\n",
    "np.random.seed(123)\n",
    "y = np.random.normal(size=5)\n",
    "print(x,y)\n",
    "print('x and y have identical values')\n",
    "\n",
    "print()\n",
    "import numpy as np\n",
    "np.random.seed(123)\n",
    "x = np.random.normal(size=5)\n",
    "np.random.seed(456)\n",
    "y = np.random.normal(size=5)\n",
    "print(x,y)\n",
    "print('The values of x are different from those of y')"
   ]
  },
  {
   "cell_type": "markdown",
   "id": "7c66cafc-1546-43b9-ba51-928f0f11c987",
   "metadata": {},
   "source": [
    "#### Two types of sampling"
   ]
  },
  {
   "cell_type": "markdown",
   "id": "8b029feb-fdcf-4cbd-8970-b093147f1e6b",
   "metadata": {
    "jp-MarkdownHeadingCollapsed": true,
    "tags": []
   },
   "source": [
    "Systematic sampling"
   ]
  },
  {
   "cell_type": "code",
   "execution_count": 8,
   "id": "06800a52-ba25-468e-9ca9-378132fb8c0f",
   "metadata": {},
   "outputs": [
    {
     "data": {
      "text/html": [
       "<div>\n",
       "<style scoped>\n",
       "    .dataframe tbody tr th:only-of-type {\n",
       "        vertical-align: middle;\n",
       "    }\n",
       "\n",
       "    .dataframe tbody tr th {\n",
       "        vertical-align: top;\n",
       "    }\n",
       "\n",
       "    .dataframe thead th {\n",
       "        text-align: right;\n",
       "    }\n",
       "</style>\n",
       "<table border=\"1\" class=\"dataframe\">\n",
       "  <thead>\n",
       "    <tr style=\"text-align: right;\">\n",
       "      <th></th>\n",
       "      <th>dist_to_mrt_m</th>\n",
       "      <th>n_convenience</th>\n",
       "      <th>house_age_years</th>\n",
       "      <th>price_twd_msq</th>\n",
       "    </tr>\n",
       "  </thead>\n",
       "  <tbody>\n",
       "    <tr>\n",
       "      <th>0</th>\n",
       "      <td>84.87882</td>\n",
       "      <td>10</td>\n",
       "      <td>30 to 45</td>\n",
       "      <td>11.467474</td>\n",
       "    </tr>\n",
       "    <tr>\n",
       "      <th>82</th>\n",
       "      <td>150.93470</td>\n",
       "      <td>7</td>\n",
       "      <td>0 to 15</td>\n",
       "      <td>14.553707</td>\n",
       "    </tr>\n",
       "    <tr>\n",
       "      <th>164</th>\n",
       "      <td>185.42960</td>\n",
       "      <td>0</td>\n",
       "      <td>0 to 15</td>\n",
       "      <td>16.701967</td>\n",
       "    </tr>\n",
       "    <tr>\n",
       "      <th>246</th>\n",
       "      <td>389.82190</td>\n",
       "      <td>6</td>\n",
       "      <td>15 to 30</td>\n",
       "      <td>12.284418</td>\n",
       "    </tr>\n",
       "    <tr>\n",
       "      <th>328</th>\n",
       "      <td>1497.71300</td>\n",
       "      <td>3</td>\n",
       "      <td>15 to 30</td>\n",
       "      <td>7.140696</td>\n",
       "    </tr>\n",
       "    <tr>\n",
       "      <th>410</th>\n",
       "      <td>90.45606</td>\n",
       "      <td>9</td>\n",
       "      <td>0 to 15</td>\n",
       "      <td>15.128593</td>\n",
       "    </tr>\n",
       "  </tbody>\n",
       "</table>\n",
       "</div>"
      ],
      "text/plain": [
       "     dist_to_mrt_m  n_convenience house_age_years  price_twd_msq\n",
       "0         84.87882             10        30 to 45      11.467474\n",
       "82       150.93470              7         0 to 15      14.553707\n",
       "164      185.42960              0         0 to 15      16.701967\n",
       "246      389.82190              6        15 to 30      12.284418\n",
       "328     1497.71300              3        15 to 30       7.140696\n",
       "410       90.45606              9         0 to 15      15.128593"
      ]
     },
     "execution_count": 8,
     "metadata": {},
     "output_type": "execute_result"
    }
   ],
   "source": [
    "# Getting a sample with alternative method\n",
    "sample_size = 5 # Number of rows we want as output\n",
    "pop_size = len(df_samp) # The total numbers of observations\n",
    "interval = pop_size // sample_size # The position for each selection\n",
    "df_samp.iloc[::interval]"
   ]
  },
  {
   "cell_type": "code",
   "execution_count": 9,
   "id": "d32e5e1f-c6fe-4a45-95fc-ac4581db8804",
   "metadata": {},
   "outputs": [
    {
     "data": {
      "image/png": "[encoded data removed]",
      "text/plain": [
       "<Figure size 432x288 with 1 Axes>"
      ]
     },
     "metadata": {
      "needs_background": "light"
     },
     "output_type": "display_data"
    }
   ],
   "source": [
    "## Systematic sampling is only safe if we don't see a pattern in this scatter plot\n",
    "\n",
    "# Making systematic sampling safe needs to shuffle the dataset\n",
    "shuffled = df_samp.sample(frac=1) # How to shuffle the dataset into one dataframe or list using franc = 1 which is get the 100%  of the data\n",
    "shuffled = shuffled.reset_index(drop=True).reset_index() # reset index\n",
    "shuffled.plot(x=\"index\", y=\"price_twd_msq\", kind=\"scatter\") # Plotting the see the final output\n",
    "plt.show()"
   ]
  },
  {
   "cell_type": "markdown",
   "id": "d23b3e67-4d99-4446-ad3d-9f7a4a7318ca",
   "metadata": {},
   "source": [
    "Stratified sampling"
   ]
  },
  {
   "cell_type": "code",
   "execution_count": 10,
   "id": "f554a331-4daa-41e7-b717-ea1c8df54b86",
   "metadata": {},
   "outputs": [
    {
     "name": "stdout",
     "output_type": "stream",
     "text": [
      "Sample\n",
      "30 to 45    0.414634\n",
      "0 to 15     0.341463\n",
      "15 to 30    0.243902\n",
      "Name: house_age_years, dtype: float64\n",
      "Sample with Cat\n",
      "0 to 15     0.452381\n",
      "15 to 30    0.309524\n",
      "30 to 45    0.238095\n",
      "Name: house_age_years, dtype: float64\n",
      "\n",
      "Sample with groupby the results is more accurate because it sampling each category separate\n"
     ]
    }
   ],
   "source": [
    "# Simple random sampling of each category\n",
    "\n",
    "# Sample\n",
    "df_samp_samp = df_samp.sample(frac=0.1, random_state=2021) # Get the 10% of the dataframe to generate the sample\n",
    "output_no_cat = df_samp_samp['house_age_years'].value_counts(normalize=True) # Viz the data normalized it\n",
    "\n",
    "# Sample with groupby\n",
    "df_samp_strat = df_samp.groupby(\"house_age_years\").sample(frac=0.1, random_state=2021)\n",
    "output_cat = df_samp_strat['house_age_years'].value_counts(normalize=True)\n",
    "## Sample with groupby the results is more accurate because it sampling each category separate\n",
    "\n",
    "print('Sample')\n",
    "print(output_no_cat)\n",
    "print('Sample with Cat')\n",
    "print(output_cat)\n",
    "\n",
    "print()\n",
    "print('Sample with groupby the results is more accurate because it sampling each category separate')"
   ]
  },
  {
   "cell_type": "code",
   "execution_count": 11,
   "id": "95acf38e-2044-4f48-b633-4d4bb0ea2cf3",
   "metadata": {},
   "outputs": [
    {
     "data": {
      "text/html": [
       "<div>\n",
       "<style scoped>\n",
       "    .dataframe tbody tr th:only-of-type {\n",
       "        vertical-align: middle;\n",
       "    }\n",
       "\n",
       "    .dataframe tbody tr th {\n",
       "        vertical-align: top;\n",
       "    }\n",
       "\n",
       "    .dataframe thead th {\n",
       "        text-align: right;\n",
       "    }\n",
       "</style>\n",
       "<table border=\"1\" class=\"dataframe\">\n",
       "  <thead>\n",
       "    <tr style=\"text-align: right;\">\n",
       "      <th></th>\n",
       "      <th>dist_to_mrt_m</th>\n",
       "      <th>n_convenience</th>\n",
       "      <th>house_age_years</th>\n",
       "      <th>price_twd_msq</th>\n",
       "    </tr>\n",
       "  </thead>\n",
       "  <tbody>\n",
       "    <tr>\n",
       "      <th>269</th>\n",
       "      <td>837.72330</td>\n",
       "      <td>0</td>\n",
       "      <td>15 to 30</td>\n",
       "      <td>6.959153</td>\n",
       "    </tr>\n",
       "    <tr>\n",
       "      <th>370</th>\n",
       "      <td>289.32480</td>\n",
       "      <td>5</td>\n",
       "      <td>15 to 30</td>\n",
       "      <td>12.738275</td>\n",
       "    </tr>\n",
       "    <tr>\n",
       "      <th>17</th>\n",
       "      <td>350.85150</td>\n",
       "      <td>1</td>\n",
       "      <td>15 to 30</td>\n",
       "      <td>11.316188</td>\n",
       "    </tr>\n",
       "    <tr>\n",
       "      <th>294</th>\n",
       "      <td>335.52730</td>\n",
       "      <td>6</td>\n",
       "      <td>15 to 30</td>\n",
       "      <td>11.527988</td>\n",
       "    </tr>\n",
       "    <tr>\n",
       "      <th>369</th>\n",
       "      <td>2185.12800</td>\n",
       "      <td>3</td>\n",
       "      <td>15 to 30</td>\n",
       "      <td>6.898638</td>\n",
       "    </tr>\n",
       "    <tr>\n",
       "      <th>0</th>\n",
       "      <td>84.87882</td>\n",
       "      <td>10</td>\n",
       "      <td>30 to 45</td>\n",
       "      <td>11.467474</td>\n",
       "    </tr>\n",
       "    <tr>\n",
       "      <th>149</th>\n",
       "      <td>179.45380</td>\n",
       "      <td>8</td>\n",
       "      <td>30 to 45</td>\n",
       "      <td>12.012103</td>\n",
       "    </tr>\n",
       "    <tr>\n",
       "      <th>220</th>\n",
       "      <td>186.51010</td>\n",
       "      <td>9</td>\n",
       "      <td>30 to 45</td>\n",
       "      <td>23.691377</td>\n",
       "    </tr>\n",
       "    <tr>\n",
       "      <th>390</th>\n",
       "      <td>377.83020</td>\n",
       "      <td>9</td>\n",
       "      <td>30 to 45</td>\n",
       "      <td>11.679274</td>\n",
       "    </tr>\n",
       "    <tr>\n",
       "      <th>68</th>\n",
       "      <td>464.22300</td>\n",
       "      <td>6</td>\n",
       "      <td>30 to 45</td>\n",
       "      <td>10.953101</td>\n",
       "    </tr>\n",
       "  </tbody>\n",
       "</table>\n",
       "</div>"
      ],
      "text/plain": [
       "     dist_to_mrt_m  n_convenience house_age_years  price_twd_msq\n",
       "269      837.72330              0        15 to 30       6.959153\n",
       "370      289.32480              5        15 to 30      12.738275\n",
       "17       350.85150              1        15 to 30      11.316188\n",
       "294      335.52730              6        15 to 30      11.527988\n",
       "369     2185.12800              3        15 to 30       6.898638\n",
       "0         84.87882             10        30 to 45      11.467474\n",
       "149      179.45380              8        30 to 45      12.012103\n",
       "220      186.51010              9        30 to 45      23.691377\n",
       "390      377.83020              9        30 to 45      11.679274\n",
       "68       464.22300              6        30 to 45      10.953101"
      ]
     },
     "execution_count": 11,
     "metadata": {},
     "output_type": "execute_result"
    }
   ],
   "source": [
    "# Cluster sampling \n",
    "\n",
    "# Not Getting all categories just a random categories\n",
    "\n",
    "# Use simple random sampling to pick some subgroups\n",
    "# Use simple random sampling on only those subgroups\n",
    "# We randomly sampled the subgroups to include, then we randomly sampled rows from those subgroups.\n",
    "\n",
    "df_samp['house_age_years'] = df_samp['house_age_years'].astype('category')\n",
    "\n",
    "varieties_pop = list(df_samp['house_age_years'].unique()) # The categories\n",
    "import random\n",
    "# Stage 1: sampling for subgroups\n",
    "varieties_samp = random.sample(varieties_pop, k=2) # Get random 3 categories\n",
    "# Stage 2: sampling each group\n",
    "variety_condition = df_samp['house_age_years'].isin(varieties_samp) # get the categories we looking for\n",
    "\n",
    "df_samp_cluster = df_samp.copy()\n",
    "\n",
    "df_samp_cluster = df_samp_cluster[variety_condition] # Retrieve the dataset with the categories we desired\n",
    "df_samp_cluster['house_age_years'] = df_samp_cluster['house_age_years'].cat.remove_unused_categories() # Remove unused categories\n",
    "df_samp_cluster.groupby(\"house_age_years\").sample(n=5, random_state=2021) # Get randomly 5 picks of each category"
   ]
  },
  {
   "cell_type": "markdown",
   "id": "d70be38c-5d1c-4ba3-82a1-549ab3e9e2a0",
   "metadata": {},
   "source": [
    "### How good is the sample size you decided to work with - checking the relative error"
   ]
  },
  {
   "cell_type": "code",
   "execution_count": 12,
   "id": "4d0a823d-845f-4552-ad27-929198ceeff5",
   "metadata": {},
   "outputs": [
    {
     "name": "stdout",
     "output_type": "stream",
     "text": [
      "3.4223279359951366\n"
     ]
    }
   ],
   "source": [
    "sample_size = 100\n",
    "# Population parameter:\n",
    "population_mean = df_samp['price_twd_msq'].mean()\n",
    "# Point estimate:\n",
    "sample_mean = df_samp.sample(n=sample_size)['price_twd_msq'].mean()\n",
    "# Relative error as a percentage:\n",
    "rel_error_pct = 100 * abs(population_mean-sample_mean) / population_mean\n",
    "print(rel_error_pct)"
   ]
  },
  {
   "cell_type": "code",
   "execution_count": 13,
   "id": "dc5a77b5-6592-4147-b7a6-7fac62ea423c",
   "metadata": {},
   "outputs": [
    {
     "data": {
      "image/png": "[encoded data removed]",
      "text/plain": [
       "<Figure size 432x288 with 1 Axes>"
      ]
     },
     "metadata": {
      "needs_background": "light"
     },
     "output_type": "display_data"
    }
   ],
   "source": [
    "# Getting a sample of 30 records from a dataset.\n",
    "# What is the most accurate sample if i collect  times the sample of 30 records\n",
    "df_samp_1000 = []\n",
    "for i in range(1000):\n",
    "    df_samp_1000.append(\n",
    "        df_samp.sample(n=30)['price_twd_msq'].mean() # Collect 1000 samples with 30 observations of each one, and get the mean of each sample\n",
    "      )\n",
    "# print(df_samp_1000)\n",
    "# Plot the means \n",
    "import matplotlib.pyplot as plt\n",
    "plt.hist(df_samp_1000, bins=30)\n",
    "plt.show()\n",
    "## More accuracy with more collection "
   ]
  },
  {
   "cell_type": "markdown",
   "id": "bf736144-f105-406f-a679-16b485a29c2c",
   "metadata": {},
   "source": [
    "### Boostraping"
   ]
  },
  {
   "cell_type": "code",
   "execution_count": 14,
   "id": "4b188499-82f7-4e12-9d62-a44bddd971f4",
   "metadata": {},
   "outputs": [],
   "source": [
    "df_boost = pd.read_csv('student_performance.csv')"
   ]
  },
  {
   "cell_type": "code",
   "execution_count": 15,
   "id": "8cc91f35-4045-4002-a72d-43b34b0d4493",
   "metadata": {},
   "outputs": [
    {
     "data": {
      "text/html": [
       "<div>\n",
       "<style scoped>\n",
       "    .dataframe tbody tr th:only-of-type {\n",
       "        vertical-align: middle;\n",
       "    }\n",
       "\n",
       "    .dataframe tbody tr th {\n",
       "        vertical-align: top;\n",
       "    }\n",
       "\n",
       "    .dataframe thead th {\n",
       "        text-align: right;\n",
       "    }\n",
       "</style>\n",
       "<table border=\"1\" class=\"dataframe\">\n",
       "  <thead>\n",
       "    <tr style=\"text-align: right;\">\n",
       "      <th></th>\n",
       "      <th>StudentID</th>\n",
       "      <th>Name</th>\n",
       "      <th>Gender</th>\n",
       "      <th>AttendanceRate</th>\n",
       "      <th>StudyHoursPerWeek</th>\n",
       "      <th>PreviousGrade</th>\n",
       "      <th>ExtracurricularActivities</th>\n",
       "      <th>ParentalSupport</th>\n",
       "      <th>FinalGrade</th>\n",
       "    </tr>\n",
       "  </thead>\n",
       "  <tbody>\n",
       "    <tr>\n",
       "      <th>0</th>\n",
       "      <td>1</td>\n",
       "      <td>John</td>\n",
       "      <td>Male</td>\n",
       "      <td>85</td>\n",
       "      <td>15</td>\n",
       "      <td>78</td>\n",
       "      <td>1</td>\n",
       "      <td>High</td>\n",
       "      <td>80</td>\n",
       "    </tr>\n",
       "    <tr>\n",
       "      <th>1</th>\n",
       "      <td>2</td>\n",
       "      <td>Sarah</td>\n",
       "      <td>Female</td>\n",
       "      <td>90</td>\n",
       "      <td>20</td>\n",
       "      <td>85</td>\n",
       "      <td>2</td>\n",
       "      <td>Medium</td>\n",
       "      <td>87</td>\n",
       "    </tr>\n",
       "    <tr>\n",
       "      <th>2</th>\n",
       "      <td>3</td>\n",
       "      <td>Alex</td>\n",
       "      <td>Male</td>\n",
       "      <td>78</td>\n",
       "      <td>10</td>\n",
       "      <td>65</td>\n",
       "      <td>0</td>\n",
       "      <td>Low</td>\n",
       "      <td>68</td>\n",
       "    </tr>\n",
       "    <tr>\n",
       "      <th>3</th>\n",
       "      <td>4</td>\n",
       "      <td>Michael</td>\n",
       "      <td>Male</td>\n",
       "      <td>92</td>\n",
       "      <td>25</td>\n",
       "      <td>90</td>\n",
       "      <td>3</td>\n",
       "      <td>High</td>\n",
       "      <td>92</td>\n",
       "    </tr>\n",
       "    <tr>\n",
       "      <th>4</th>\n",
       "      <td>5</td>\n",
       "      <td>Emma</td>\n",
       "      <td>Female</td>\n",
       "      <td>88</td>\n",
       "      <td>18</td>\n",
       "      <td>82</td>\n",
       "      <td>2</td>\n",
       "      <td>Medium</td>\n",
       "      <td>85</td>\n",
       "    </tr>\n",
       "    <tr>\n",
       "      <th>5</th>\n",
       "      <td>6</td>\n",
       "      <td>Olivia</td>\n",
       "      <td>Female</td>\n",
       "      <td>95</td>\n",
       "      <td>30</td>\n",
       "      <td>88</td>\n",
       "      <td>1</td>\n",
       "      <td>High</td>\n",
       "      <td>90</td>\n",
       "    </tr>\n",
       "    <tr>\n",
       "      <th>6</th>\n",
       "      <td>7</td>\n",
       "      <td>Daniel</td>\n",
       "      <td>Male</td>\n",
       "      <td>70</td>\n",
       "      <td>8</td>\n",
       "      <td>60</td>\n",
       "      <td>0</td>\n",
       "      <td>Low</td>\n",
       "      <td>62</td>\n",
       "    </tr>\n",
       "    <tr>\n",
       "      <th>7</th>\n",
       "      <td>8</td>\n",
       "      <td>Sophia</td>\n",
       "      <td>Female</td>\n",
       "      <td>85</td>\n",
       "      <td>17</td>\n",
       "      <td>77</td>\n",
       "      <td>1</td>\n",
       "      <td>Medium</td>\n",
       "      <td>78</td>\n",
       "    </tr>\n",
       "    <tr>\n",
       "      <th>8</th>\n",
       "      <td>9</td>\n",
       "      <td>James</td>\n",
       "      <td>Male</td>\n",
       "      <td>82</td>\n",
       "      <td>12</td>\n",
       "      <td>70</td>\n",
       "      <td>2</td>\n",
       "      <td>Low</td>\n",
       "      <td>72</td>\n",
       "    </tr>\n",
       "    <tr>\n",
       "      <th>9</th>\n",
       "      <td>10</td>\n",
       "      <td>Isabella</td>\n",
       "      <td>Female</td>\n",
       "      <td>91</td>\n",
       "      <td>22</td>\n",
       "      <td>86</td>\n",
       "      <td>3</td>\n",
       "      <td>High</td>\n",
       "      <td>88</td>\n",
       "    </tr>\n",
       "  </tbody>\n",
       "</table>\n",
       "</div>"
      ],
      "text/plain": [
       "   StudentID      Name  Gender  AttendanceRate  StudyHoursPerWeek  \\\n",
       "0          1      John    Male              85                 15   \n",
       "1          2     Sarah  Female              90                 20   \n",
       "2          3      Alex    Male              78                 10   \n",
       "3          4   Michael    Male              92                 25   \n",
       "4          5      Emma  Female              88                 18   \n",
       "5          6    Olivia  Female              95                 30   \n",
       "6          7    Daniel    Male              70                  8   \n",
       "7          8    Sophia  Female              85                 17   \n",
       "8          9     James    Male              82                 12   \n",
       "9         10  Isabella  Female              91                 22   \n",
       "\n",
       "   PreviousGrade  ExtracurricularActivities ParentalSupport  FinalGrade  \n",
       "0             78                          1            High          80  \n",
       "1             85                          2          Medium          87  \n",
       "2             65                          0             Low          68  \n",
       "3             90                          3            High          92  \n",
       "4             82                          2          Medium          85  \n",
       "5             88                          1            High          90  \n",
       "6             60                          0             Low          62  \n",
       "7             77                          1          Medium          78  \n",
       "8             70                          2             Low          72  \n",
       "9             86                          3            High          88  "
      ]
     },
     "execution_count": 15,
     "metadata": {},
     "output_type": "execute_result"
    }
   ],
   "source": [
    "df_boost"
   ]
  },
  {
   "cell_type": "code",
   "execution_count": 16,
   "id": "c72242f7-1e85-4d71-b5b3-5680e3b86305",
   "metadata": {},
   "outputs": [
    {
     "data": {
      "image/png": "[encoded data removed]",
      "text/plain": [
       "<Figure size 432x288 with 1 Axes>"
      ]
     },
     "metadata": {
      "needs_background": "light"
     },
     "output_type": "display_data"
    }
   ],
   "source": [
    "# Sampling with replacement is sometimes called resampling. Bootstrap\n",
    "df_boost_resamp = df_boost.sample(frac=1, replace=True)\n",
    "\n",
    "df_boost_1000 = []\n",
    "\n",
    "for i in range(1000):\n",
    "    df_boost_1000.append(\n",
    "    np.mean(df_boost.sample(frac=1, replace=True)['FinalGrade']) \n",
    "  )\n",
    "\n",
    "\n",
    "plt.hist(df_boost_1000)\n",
    "plt.show()\n"
   ]
  },
  {
   "cell_type": "code",
   "execution_count": 17,
   "id": "52923fe6-6b05-4e34-836f-6b3bbf734782",
   "metadata": {
    "tags": []
   },
   "outputs": [
    {
     "name": "stdout",
     "output_type": "stream",
     "text": [
      "Sample mean 80.2\n",
      "Boostrap mean 80.2073\n",
      "Original mean 75.8\n",
      "Notice the Boostrap mean is closeest to the original mean\n"
     ]
    }
   ],
   "source": [
    "# Comparing sampling and bootstrap distributions, using standard deviation\n",
    "# Sample mean:\n",
    "sample_mean = df_boost['FinalGrade'].mean()\n",
    "\n",
    "# Estimated population mean:\n",
    "boost_mean = np.mean(df_boost_1000)\n",
    "\n",
    "# True population mean:\n",
    "df_mean = df_boost_resamp['FinalGrade'].mean()\n",
    "\n",
    "print('Sample mean ' + str(sample_mean))\n",
    "print('Boostrap mean ' + str(boost_mean))\n",
    "print('Original mean ' + str(df_mean))\n",
    "print('Notice the Boostrap mean is closeest to the original mean')"
   ]
  },
  {
   "cell_type": "markdown",
   "id": "70ec7936-4e09-402e-938b-1f4cf6e76d38",
   "metadata": {
    "tags": []
   },
   "source": [
    "#### Confidence Intervals"
   ]
  },
  {
   "cell_type": "code",
   "execution_count": 18,
   "id": "8bbc9162-fec5-4be5-b487-22f17c339d8b",
   "metadata": {},
   "outputs": [
    {
     "name": "stdout",
     "output_type": "stream",
     "text": [
      "Lower Confident Interval\n",
      "62.0\n",
      "Higher Confident Interval\n",
      "90.0\n"
     ]
    }
   ],
   "source": [
    "# Calcualte 2 the Confident Interval\n",
    "# Lower Confident Interval\n",
    "print('Lower Confident Interval')\n",
    "print(np.quantile(df_boost_resamp['FinalGrade'], 0.025))\n",
    "\n",
    "# Higher Confident Interval\n",
    "print('Higher Confident Interval')\n",
    "print(np.quantile(df_boost_resamp['FinalGrade'], 0.975))\n"
   ]
  },
  {
   "cell_type": "markdown",
   "id": "544cb16f-0cb9-4487-924b-ec1c4369cc84",
   "metadata": {},
   "source": [
    "---\n",
    "Standard deviation of the Sample / Boostrap / Original"
   ]
  },
  {
   "cell_type": "markdown",
   "id": "93321ace-57c3-4184-9744-2f518599c45b",
   "metadata": {},
   "source": [
    "Standard Deviation of Boostrap sample is the standard error"
   ]
  },
  {
   "cell_type": "code",
   "execution_count": null,
   "id": "dad70976-699b-4ef5-90ee-04c3113f1a52",
   "metadata": {},
   "outputs": [],
   "source": [
    "# Standard error of estimated population\n",
    "# Sample standard deviation:\n",
    "coffee_sample['flavor'].std()\n",
    "0.3540883911928703\n",
    "\n",
    "# True standard deviation:\n",
    "df_boost['flavor'].std(ddof=0)\n",
    "0.34125481224622645\n",
    "\n",
    "# Estimated population standard deviation:\n",
    "standard_error = np.std(bootstrap_distn, ddof=1)\n",
    "# Standard error is the standard deviation of the statistic of interest\n",
    "standard_error * np.sqrt(500)\n",
    "0.3525938058821761\n",
    "## Standard error times square root of sample size estimates the population standard deviation"
   ]
  }
 ],
 "metadata": {
  "kernelspec": {
   "display_name": "Python 3 (ipykernel)",
   "language": "python",
   "name": "python3"
  },
  "language_info": {
   "codemirror_mode": {
    "name": "ipython",
    "version": 3
   },
   "file_extension": ".py",
   "mimetype": "text/x-python",
   "name": "python",
   "nbconvert_exporter": "python",
   "pygments_lexer": "ipython3",
   "version": "3.8.10"
  }
 },
 "nbformat": 4,
 "nbformat_minor": 5
}
