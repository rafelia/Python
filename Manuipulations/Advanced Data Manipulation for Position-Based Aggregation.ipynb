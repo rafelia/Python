{
 "cells": [
  {
   "cell_type": "markdown",
   "id": "526145d5-f3c6-406c-8155-bd43bd45a4ea",
   "metadata": {},
   "source": [
    "- Importing necessary libraries\n",
    "- Utility functions for Excel formatting (e.g., adjusting column width)"
   ]
  },
  {
   "cell_type": "code",
   "execution_count": 2,
   "id": "6ce1ffe0-b78c-4068-9501-b353665e9198",
   "metadata": {
    "editable": true,
    "slideshow": {
     "slide_type": ""
    },
    "tags": []
   },
   "outputs": [],
   "source": [
    "import pandas as pd\n",
    "from bs4 import BeautifulSoup\n",
    "import numpy as np\n",
    "\n",
    "\n",
    "# Excel Formating Libraries\n",
    "from openpyxl import Workbook\n",
    "from openpyxl.utils.dataframe import dataframe_to_rows\n",
    "from openpyxl.styles import PatternFill, Font, Border, Side, Alignment\n",
    "from openpyxl.utils import get_column_letter"
   ]
  },
  {
   "cell_type": "code",
   "execution_count": 3,
   "id": "452f9cf5-aefc-44e9-989e-94097e2f3a1f",
   "metadata": {
    "editable": true,
    "slideshow": {
     "slide_type": ""
    },
    "tags": []
   },
   "outputs": [],
   "source": [
    "def adjust_column_width(worksheet):\n",
    "    for column in worksheet.columns:\n",
    "        max_length = 0\n",
    "        column_letter = get_column_letter(column[0].column)  # Get the column letter\n",
    "\n",
    "        for cell in column:\n",
    "            try: \n",
    "                # Check the length of the cell value\n",
    "                if len(cell.value) > max_length:\n",
    "                    max_length = len(cell.value)\n",
    "            except:\n",
    "                pass\n",
    "\n",
    "        adjusted_width = (max_length + 2)  # Add 2 for a little extra space\n",
    "        worksheet.column_dimensions[column_letter].width = adjusted_width"
   ]
  },
  {
   "cell_type": "code",
   "execution_count": 4,
   "id": "1c0399d0-43e6-42a8-b324-e1a6db13f9dc",
   "metadata": {
    "editable": true,
    "slideshow": {
     "slide_type": ""
    },
    "tags": []
   },
   "outputs": [],
   "source": [
    "def extract_text_from_html(html):\n",
    "    soup = BeautifulSoup(html, 'html.parser')\n",
    "    return soup.get_text()"
   ]
  },
  {
   "cell_type": "code",
   "execution_count": 8,
   "id": "d0f17c3a-6014-4af1-86be-608f7c77001f",
   "metadata": {},
   "outputs": [],
   "source": [
    "# Colors\n",
    "light_greyFill = PatternFill(start_color='FFCCCCCC',\n",
    "                       end_color='FFCCCCCC',\n",
    "                       fill_type='solid')\n",
    "\n",
    "#Size of the borders\n",
    "thin_border = Border(left=Side(style='thin', color = '00000000'), \n",
    "                     right=Side(style='thin', color = '00000000'), \n",
    "                     top=Side(style='thin', color = '00000000'), \n",
    "                     bottom=Side(style='thin', color = '00000000'))\n",
    "\n",
    "thick_border = Border(left=Side(style='thick', color = '00000000'), \n",
    "                     right=Side(style='thick', color = '00000000'), \n",
    "                     top=Side(style='thick', color = '00000000'), \n",
    "                     bottom=Side(style='thick', color = '00000000'))"
   ]
  },
  {
   "cell_type": "code",
   "execution_count": 9,
   "id": "48f77e87-df6f-4213-aa6b-e6332ba412b1",
   "metadata": {},
   "outputs": [],
   "source": [
    "df_copy = pd.read_csv('FIFA23_official_data.csv')"
   ]
  },
  {
   "cell_type": "code",
   "execution_count": 10,
   "id": "ea45ce2c-b3f3-4dc8-b68f-3011ebbddc7a",
   "metadata": {},
   "outputs": [],
   "source": [
    "df = df_copy.copy()"
   ]
  },
  {
   "cell_type": "code",
   "execution_count": 11,
   "id": "62392526-7907-42dc-8816-024ca2422c84",
   "metadata": {},
   "outputs": [
    {
     "data": {
      "text/html": [
       "<div>\n",
       "<style scoped>\n",
       "    .dataframe tbody tr th:only-of-type {\n",
       "        vertical-align: middle;\n",
       "    }\n",
       "\n",
       "    .dataframe tbody tr th {\n",
       "        vertical-align: top;\n",
       "    }\n",
       "\n",
       "    .dataframe thead th {\n",
       "        text-align: right;\n",
       "    }\n",
       "</style>\n",
       "<table border=\"1\" class=\"dataframe\">\n",
       "  <thead>\n",
       "    <tr style=\"text-align: right;\">\n",
       "      <th></th>\n",
       "      <th>ID</th>\n",
       "      <th>Name</th>\n",
       "      <th>Age</th>\n",
       "      <th>Photo</th>\n",
       "      <th>Nationality</th>\n",
       "      <th>Flag</th>\n",
       "      <th>Overall</th>\n",
       "      <th>Potential</th>\n",
       "      <th>Club</th>\n",
       "      <th>Club Logo</th>\n",
       "      <th>...</th>\n",
       "      <th>Real Face</th>\n",
       "      <th>Position</th>\n",
       "      <th>Joined</th>\n",
       "      <th>Loaned From</th>\n",
       "      <th>Contract Valid Until</th>\n",
       "      <th>Height</th>\n",
       "      <th>Weight</th>\n",
       "      <th>Release Clause</th>\n",
       "      <th>Kit Number</th>\n",
       "      <th>Best Overall Rating</th>\n",
       "    </tr>\n",
       "  </thead>\n",
       "  <tbody>\n",
       "    <tr>\n",
       "      <th>0</th>\n",
       "      <td>209658</td>\n",
       "      <td>L. Goretzka</td>\n",
       "      <td>27</td>\n",
       "      <td>https://cdn.sofifa.net/players/209/658/23_60.png</td>\n",
       "      <td>Germany</td>\n",
       "      <td>https://cdn.sofifa.net/flags/de.png</td>\n",
       "      <td>87</td>\n",
       "      <td>88</td>\n",
       "      <td>FC Bayern München</td>\n",
       "      <td>https://cdn.sofifa.net/teams/21/30.png</td>\n",
       "      <td>...</td>\n",
       "      <td>Yes</td>\n",
       "      <td>&lt;span class=\"pos pos28\"&gt;SUB</td>\n",
       "      <td>Jul 1, 2018</td>\n",
       "      <td>NaN</td>\n",
       "      <td>2026</td>\n",
       "      <td>189cm</td>\n",
       "      <td>82kg</td>\n",
       "      <td>€157M</td>\n",
       "      <td>8.0</td>\n",
       "      <td>NaN</td>\n",
       "    </tr>\n",
       "    <tr>\n",
       "      <th>1</th>\n",
       "      <td>212198</td>\n",
       "      <td>Bruno Fernandes</td>\n",
       "      <td>27</td>\n",
       "      <td>https://cdn.sofifa.net/players/212/198/23_60.png</td>\n",
       "      <td>Portugal</td>\n",
       "      <td>https://cdn.sofifa.net/flags/pt.png</td>\n",
       "      <td>86</td>\n",
       "      <td>87</td>\n",
       "      <td>Manchester United</td>\n",
       "      <td>https://cdn.sofifa.net/teams/11/30.png</td>\n",
       "      <td>...</td>\n",
       "      <td>Yes</td>\n",
       "      <td>&lt;span class=\"pos pos15\"&gt;LCM</td>\n",
       "      <td>Jan 30, 2020</td>\n",
       "      <td>NaN</td>\n",
       "      <td>2026</td>\n",
       "      <td>179cm</td>\n",
       "      <td>69kg</td>\n",
       "      <td>€155M</td>\n",
       "      <td>8.0</td>\n",
       "      <td>NaN</td>\n",
       "    </tr>\n",
       "    <tr>\n",
       "      <th>2</th>\n",
       "      <td>224334</td>\n",
       "      <td>M. Acuña</td>\n",
       "      <td>30</td>\n",
       "      <td>https://cdn.sofifa.net/players/224/334/23_60.png</td>\n",
       "      <td>Argentina</td>\n",
       "      <td>https://cdn.sofifa.net/flags/ar.png</td>\n",
       "      <td>85</td>\n",
       "      <td>85</td>\n",
       "      <td>Sevilla FC</td>\n",
       "      <td>https://cdn.sofifa.net/teams/481/30.png</td>\n",
       "      <td>...</td>\n",
       "      <td>No</td>\n",
       "      <td>&lt;span class=\"pos pos7\"&gt;LB</td>\n",
       "      <td>Sep 14, 2020</td>\n",
       "      <td>NaN</td>\n",
       "      <td>2024</td>\n",
       "      <td>172cm</td>\n",
       "      <td>69kg</td>\n",
       "      <td>€97.7M</td>\n",
       "      <td>19.0</td>\n",
       "      <td>NaN</td>\n",
       "    </tr>\n",
       "    <tr>\n",
       "      <th>3</th>\n",
       "      <td>192985</td>\n",
       "      <td>K. De Bruyne</td>\n",
       "      <td>31</td>\n",
       "      <td>https://cdn.sofifa.net/players/192/985/23_60.png</td>\n",
       "      <td>Belgium</td>\n",
       "      <td>https://cdn.sofifa.net/flags/be.png</td>\n",
       "      <td>91</td>\n",
       "      <td>91</td>\n",
       "      <td>Manchester City</td>\n",
       "      <td>https://cdn.sofifa.net/teams/10/30.png</td>\n",
       "      <td>...</td>\n",
       "      <td>Yes</td>\n",
       "      <td>&lt;span class=\"pos pos13\"&gt;RCM</td>\n",
       "      <td>Aug 30, 2015</td>\n",
       "      <td>NaN</td>\n",
       "      <td>2025</td>\n",
       "      <td>181cm</td>\n",
       "      <td>70kg</td>\n",
       "      <td>€198.9M</td>\n",
       "      <td>17.0</td>\n",
       "      <td>NaN</td>\n",
       "    </tr>\n",
       "    <tr>\n",
       "      <th>4</th>\n",
       "      <td>224232</td>\n",
       "      <td>N. Barella</td>\n",
       "      <td>25</td>\n",
       "      <td>https://cdn.sofifa.net/players/224/232/23_60.png</td>\n",
       "      <td>Italy</td>\n",
       "      <td>https://cdn.sofifa.net/flags/it.png</td>\n",
       "      <td>86</td>\n",
       "      <td>89</td>\n",
       "      <td>Inter</td>\n",
       "      <td>https://cdn.sofifa.net/teams/44/30.png</td>\n",
       "      <td>...</td>\n",
       "      <td>Yes</td>\n",
       "      <td>&lt;span class=\"pos pos13\"&gt;RCM</td>\n",
       "      <td>Sep 1, 2020</td>\n",
       "      <td>NaN</td>\n",
       "      <td>2026</td>\n",
       "      <td>172cm</td>\n",
       "      <td>68kg</td>\n",
       "      <td>€154.4M</td>\n",
       "      <td>23.0</td>\n",
       "      <td>NaN</td>\n",
       "    </tr>\n",
       "  </tbody>\n",
       "</table>\n",
       "<p>5 rows × 29 columns</p>\n",
       "</div>"
      ],
      "text/plain": [
       "       ID             Name  Age  \\\n",
       "0  209658      L. Goretzka   27   \n",
       "1  212198  Bruno Fernandes   27   \n",
       "2  224334         M. Acuña   30   \n",
       "3  192985     K. De Bruyne   31   \n",
       "4  224232       N. Barella   25   \n",
       "\n",
       "                                              Photo Nationality  \\\n",
       "0  https://cdn.sofifa.net/players/209/658/23_60.png     Germany   \n",
       "1  https://cdn.sofifa.net/players/212/198/23_60.png    Portugal   \n",
       "2  https://cdn.sofifa.net/players/224/334/23_60.png   Argentina   \n",
       "3  https://cdn.sofifa.net/players/192/985/23_60.png     Belgium   \n",
       "4  https://cdn.sofifa.net/players/224/232/23_60.png       Italy   \n",
       "\n",
       "                                  Flag  Overall  Potential               Club  \\\n",
       "0  https://cdn.sofifa.net/flags/de.png       87         88  FC Bayern München   \n",
       "1  https://cdn.sofifa.net/flags/pt.png       86         87  Manchester United   \n",
       "2  https://cdn.sofifa.net/flags/ar.png       85         85         Sevilla FC   \n",
       "3  https://cdn.sofifa.net/flags/be.png       91         91    Manchester City   \n",
       "4  https://cdn.sofifa.net/flags/it.png       86         89              Inter   \n",
       "\n",
       "                                 Club Logo  ... Real Face  \\\n",
       "0   https://cdn.sofifa.net/teams/21/30.png  ...       Yes   \n",
       "1   https://cdn.sofifa.net/teams/11/30.png  ...       Yes   \n",
       "2  https://cdn.sofifa.net/teams/481/30.png  ...        No   \n",
       "3   https://cdn.sofifa.net/teams/10/30.png  ...       Yes   \n",
       "4   https://cdn.sofifa.net/teams/44/30.png  ...       Yes   \n",
       "\n",
       "                      Position        Joined Loaned From  \\\n",
       "0  <span class=\"pos pos28\">SUB   Jul 1, 2018         NaN   \n",
       "1  <span class=\"pos pos15\">LCM  Jan 30, 2020         NaN   \n",
       "2    <span class=\"pos pos7\">LB  Sep 14, 2020         NaN   \n",
       "3  <span class=\"pos pos13\">RCM  Aug 30, 2015         NaN   \n",
       "4  <span class=\"pos pos13\">RCM   Sep 1, 2020         NaN   \n",
       "\n",
       "   Contract Valid Until  Height  Weight Release Clause Kit Number  \\\n",
       "0                  2026   189cm    82kg          €157M        8.0   \n",
       "1                  2026   179cm    69kg          €155M        8.0   \n",
       "2                  2024   172cm    69kg         €97.7M       19.0   \n",
       "3                  2025   181cm    70kg        €198.9M       17.0   \n",
       "4                  2026   172cm    68kg        €154.4M       23.0   \n",
       "\n",
       "  Best Overall Rating  \n",
       "0                 NaN  \n",
       "1                 NaN  \n",
       "2                 NaN  \n",
       "3                 NaN  \n",
       "4                 NaN  \n",
       "\n",
       "[5 rows x 29 columns]"
      ]
     },
     "execution_count": 11,
     "metadata": {},
     "output_type": "execute_result"
    }
   ],
   "source": [
    "df.head()"
   ]
  },
  {
   "cell_type": "markdown",
   "id": "a62d5f2d-e0c6-41d3-85e6-eed52f57ad5d",
   "metadata": {},
   "source": [
    "### Data Cleaning\n",
    "\n",
    "- Removing non-numeric characters from columns\n",
    "- Converting categorical columns into ordered categories\n",
    "- Handling missing values"
   ]
  },
  {
   "cell_type": "code",
   "execution_count": 13,
   "id": "7bae92d4-da47-4250-8b01-31ead51b8454",
   "metadata": {
    "tags": []
   },
   "outputs": [],
   "source": [
    "for row in range(len(df['Position'])):\n",
    "    if df['Position'].isna().iloc[row] == False:\n",
    "        df.iloc[row, 20] = extract_text_from_html(df.iloc[row,20])"
   ]
  },
  {
   "cell_type": "code",
   "execution_count": 14,
   "id": "aa857698-c37c-4395-aca0-e4b3bbfde7a4",
   "metadata": {},
   "outputs": [],
   "source": [
    "df['International Reputation'] = df['International Reputation'].astype(int)"
   ]
  },
  {
   "cell_type": "code",
   "execution_count": 15,
   "id": "fdcff902-683e-4411-8247-4ad49b46a179",
   "metadata": {},
   "outputs": [],
   "source": [
    "df['Value_No'] = df['Value'].str.replace('[^\\d.]','',regex = True)"
   ]
  },
  {
   "cell_type": "code",
   "execution_count": 16,
   "id": "312311d6-de8b-4491-bde3-c16ea981ed19",
   "metadata": {
    "tags": []
   },
   "outputs": [],
   "source": [
    "value_no_copy = df['Value_No'].copy()\n",
    "\n",
    "for index, value in df['Value'].items():\n",
    "\n",
    "    if value[-1] == 'M':\n",
    "        value_no_copy[index] = int(float(value_no_copy[index]) * 1000000)\n",
    "    elif value[-1] == 'K':\n",
    "        value_no_copy[index] = int(float(value_no_copy[index]) * 1000)\n",
    "\n",
    "df['Value_No'] = value_no_copy"
   ]
  },
  {
   "cell_type": "code",
   "execution_count": 17,
   "id": "6c75cbfb-87fb-4fbd-89e9-4a7724fb4908",
   "metadata": {},
   "outputs": [],
   "source": [
    "df['Value_No'] = df['Value_No'].astype(int)"
   ]
  },
  {
   "cell_type": "code",
   "execution_count": 18,
   "id": "5a9f5ce3-e92b-4a19-a17e-44028b3bfa3e",
   "metadata": {},
   "outputs": [],
   "source": [
    "df_new = df[['ID', 'Name', 'Age', 'Nationality', 'Club', 'Position','Value', 'Overall', 'Potential', 'International Reputation','Value_No']]"
   ]
  },
  {
   "cell_type": "code",
   "execution_count": 19,
   "id": "6319416e-0497-43e2-99c2-f58d9cfec1a8",
   "metadata": {},
   "outputs": [],
   "source": [
    "df_new = df_new[df_new['Position'].isna() != True]"
   ]
  },
  {
   "cell_type": "code",
   "execution_count": 20,
   "id": "5728d71a-9edb-42d3-ac20-024e3f7a2158",
   "metadata": {},
   "outputs": [],
   "source": [
    "position_order = ['GK', 'CB', 'LCB', 'RCB', 'LB', 'RB', 'LWB', 'RWB', 'CDM', 'LDM', 'RDM', 'CM', 'LCM', 'RCM', 'LM', 'RM', 'LAM', 'RAM', 'CAM', 'LW', 'RW', 'LF', 'RF', 'LS', 'RS', 'CF', 'ST', 'SUB', 'RES']"
   ]
  },
  {
   "cell_type": "code",
   "execution_count": 21,
   "id": "6db1ab7b-b2c3-466c-96e7-332f62841bf9",
   "metadata": {
    "tags": []
   },
   "outputs": [],
   "source": [
    "df_new.loc[:,'Position'] = pd.Categorical(df_new['Position'], categories = position_order, ordered = True)\n",
    "\n",
    "df_new = df_new.sort_values(by=['Position', 'Value_No'], ascending = [True, False])\n",
    "\n",
    "df_new.reset_index(inplace = True, drop = True)"
   ]
  },
  {
   "cell_type": "code",
   "execution_count": 23,
   "id": "d42315a6-4092-4bbd-9f58-2379894f1c1b",
   "metadata": {},
   "outputs": [],
   "source": [
    "position_list = df_new['Position'].unique()"
   ]
  },
  {
   "cell_type": "markdown",
   "id": "304dbc5f-9568-4f2c-90e4-4098c7ef8d9c",
   "metadata": {},
   "source": [
    "- Creating aggregated position-based data\n",
    "- Calculating average and sum values for each position\n",
    "- Prepare the data for the Excel"
   ]
  },
  {
   "cell_type": "code",
   "execution_count": 28,
   "id": "bafe55ca-41d0-4f05-a4e2-67eb2184c4dd",
   "metadata": {},
   "outputs": [],
   "source": [
    "df_new_sub = df_new.groupby('Position').agg({'Overall':'mean','Potential':'mean','International Reputation':'mean','Value_No':'sum'})\n",
    "df_new_sub.reset_index(inplace = True)\n",
    "df_new_sub['Position'] = df_new_sub['Position'].astype(str)\n",
    "df_new_sub['Position'] = df_new_sub['Position'] + ' Subtotal'"
   ]
  },
  {
   "cell_type": "code",
   "execution_count": 29,
   "id": "26773768-f6ae-43c6-8d62-71e032b0071e",
   "metadata": {},
   "outputs": [],
   "source": [
    "len_list_position = len(position_order)\n",
    "for index, item in enumerate(reversed(position_order)):\n",
    "    original_index = len_list_position - 1 - index\n",
    "    position_order.insert(original_index+1, f'{item} Subtotal')\n",
    "\n"
   ]
  },
  {
   "cell_type": "code",
   "execution_count": 30,
   "id": "9e3cfbe2-5e4a-423f-8873-9f6450d0cc59",
   "metadata": {},
   "outputs": [],
   "source": [
    "df_new_new = pd.concat([df_new, df_new_sub])"
   ]
  },
  {
   "cell_type": "code",
   "execution_count": 31,
   "id": "9bc8e918-5c65-42d8-9e1d-88cc39e21b79",
   "metadata": {},
   "outputs": [],
   "source": [
    "df_new_new = df_new_new.fillna('')"
   ]
  },
  {
   "cell_type": "code",
   "execution_count": 32,
   "id": "d39a7213-be6b-4001-a742-7305bb3765ae",
   "metadata": {},
   "outputs": [],
   "source": [
    "df_new_new.loc[df_new_new['Position'].str.endswith(' Subtotal'), 'Value'] = round(df_new_new.loc[df_new_new['Position'].str.endswith(' Subtotal'), 'Value_No']/1000000,1)\n",
    "df_new_new['Value'] = df_new_new['Value'].astype(str)\n",
    "df_new_new.loc[df_new_new['Position'].str.endswith(' Subtotal'), 'Value'] = '€' + df_new_new.loc[df_new_new['Position'].str.endswith(' Subtotal'), 'Value'] + 'M'"
   ]
  },
  {
   "cell_type": "code",
   "execution_count": 33,
   "id": "a401ca9d-a44f-4c29-87e6-e54280786b18",
   "metadata": {},
   "outputs": [],
   "source": [
    "df_new_new.loc[:,'Position'] = pd.Categorical(df_new_new['Position'], categories = position_order, ordered = True)\n",
    "\n",
    "df_new_new = df_new_new.sort_values(by=['Position', 'Value_No'], ascending = [True, False])\n",
    "\n",
    "df_new_new.reset_index(inplace = True, drop = True)"
   ]
  },
  {
   "cell_type": "code",
   "execution_count": 34,
   "id": "8d626b1e-4391-4c36-92fb-15139cacc6f0",
   "metadata": {},
   "outputs": [],
   "source": [
    "df_new_new.drop('Value_No', axis = 1, inplace = True)\n",
    "\n",
    "df_new_new[['Overall','Potential','International Reputation']] = round(df_new_new[['Overall','Potential','International Reputation']],0)\n",
    "df_new_new[['Overall','Potential','International Reputation']] = df_new_new[['Overall','Potential','International Reputation']].astype(int)\n",
    "\n",
    "df_new_new['Position'] = df_new_new['Position'].astype(str)"
   ]
  },
  {
   "cell_type": "code",
   "execution_count": 35,
   "id": "63591830-8886-4b8f-acbb-70484a619d15",
   "metadata": {},
   "outputs": [
    {
     "data": {
      "text/html": [
       "<div>\n",
       "<style scoped>\n",
       "    .dataframe tbody tr th:only-of-type {\n",
       "        vertical-align: middle;\n",
       "    }\n",
       "\n",
       "    .dataframe tbody tr th {\n",
       "        vertical-align: top;\n",
       "    }\n",
       "\n",
       "    .dataframe thead th {\n",
       "        text-align: right;\n",
       "    }\n",
       "</style>\n",
       "<table border=\"1\" class=\"dataframe\">\n",
       "  <thead>\n",
       "    <tr style=\"text-align: right;\">\n",
       "      <th></th>\n",
       "      <th>ID</th>\n",
       "      <th>Name</th>\n",
       "      <th>Age</th>\n",
       "      <th>Nationality</th>\n",
       "      <th>Club</th>\n",
       "      <th>Position</th>\n",
       "      <th>Value</th>\n",
       "      <th>Overall</th>\n",
       "      <th>Potential</th>\n",
       "      <th>International Reputation</th>\n",
       "    </tr>\n",
       "  </thead>\n",
       "  <tbody>\n",
       "    <tr>\n",
       "      <th>0</th>\n",
       "      <td>222665.0</td>\n",
       "      <td>M. Ødegaard</td>\n",
       "      <td>23.0</td>\n",
       "      <td>Norway</td>\n",
       "      <td>Arsenal</td>\n",
       "      <td>CAM</td>\n",
       "      <td>€63.5M</td>\n",
       "      <td>84</td>\n",
       "      <td>89</td>\n",
       "      <td>3</td>\n",
       "    </tr>\n",
       "    <tr>\n",
       "      <th>1</th>\n",
       "      <td>189596.0</td>\n",
       "      <td>T. Müller</td>\n",
       "      <td>32.0</td>\n",
       "      <td>Germany</td>\n",
       "      <td>FC Bayern München</td>\n",
       "      <td>CAM</td>\n",
       "      <td>€63M</td>\n",
       "      <td>87</td>\n",
       "      <td>87</td>\n",
       "      <td>4</td>\n",
       "    </tr>\n",
       "    <tr>\n",
       "      <th>2</th>\n",
       "      <td>216594.0</td>\n",
       "      <td>N. Fekir</td>\n",
       "      <td>28.0</td>\n",
       "      <td>France</td>\n",
       "      <td>Real Betis Balompié</td>\n",
       "      <td>CAM</td>\n",
       "      <td>€54.5M</td>\n",
       "      <td>85</td>\n",
       "      <td>85</td>\n",
       "      <td>3</td>\n",
       "    </tr>\n",
       "    <tr>\n",
       "      <th>3</th>\n",
       "      <td>220697.0</td>\n",
       "      <td>J. Maddison</td>\n",
       "      <td>25.0</td>\n",
       "      <td>England</td>\n",
       "      <td>Leicester City</td>\n",
       "      <td>CAM</td>\n",
       "      <td>€38M</td>\n",
       "      <td>82</td>\n",
       "      <td>84</td>\n",
       "      <td>1</td>\n",
       "    </tr>\n",
       "    <tr>\n",
       "      <th>4</th>\n",
       "      <td>188350.0</td>\n",
       "      <td>M. Reus</td>\n",
       "      <td>33.0</td>\n",
       "      <td>Germany</td>\n",
       "      <td>Borussia Dortmund</td>\n",
       "      <td>CAM</td>\n",
       "      <td>€33.5M</td>\n",
       "      <td>85</td>\n",
       "      <td>85</td>\n",
       "      <td>4</td>\n",
       "    </tr>\n",
       "    <tr>\n",
       "      <th>...</th>\n",
       "      <td>...</td>\n",
       "      <td>...</td>\n",
       "      <td>...</td>\n",
       "      <td>...</td>\n",
       "      <td>...</td>\n",
       "      <td>...</td>\n",
       "      <td>...</td>\n",
       "      <td>...</td>\n",
       "      <td>...</td>\n",
       "      <td>...</td>\n",
       "    </tr>\n",
       "    <tr>\n",
       "      <th>17649</th>\n",
       "      <td>261630.0</td>\n",
       "      <td>21 H. Kerrido</td>\n",
       "      <td>26.0</td>\n",
       "      <td>Cameroon</td>\n",
       "      <td></td>\n",
       "      <td>SUB</td>\n",
       "      <td>€0</td>\n",
       "      <td>60</td>\n",
       "      <td>63</td>\n",
       "      <td>1</td>\n",
       "    </tr>\n",
       "    <tr>\n",
       "      <th>17650</th>\n",
       "      <td>253949.0</td>\n",
       "      <td>20 R. Goss</td>\n",
       "      <td>25.0</td>\n",
       "      <td>South Africa</td>\n",
       "      <td></td>\n",
       "      <td>SUB</td>\n",
       "      <td>€0</td>\n",
       "      <td>61</td>\n",
       "      <td>65</td>\n",
       "      <td>1</td>\n",
       "    </tr>\n",
       "    <tr>\n",
       "      <th>17651</th>\n",
       "      <td>252359.0</td>\n",
       "      <td>21 E. Ira Tape</td>\n",
       "      <td>22.0</td>\n",
       "      <td>Côte d'Ivoire</td>\n",
       "      <td></td>\n",
       "      <td>SUB</td>\n",
       "      <td>€0</td>\n",
       "      <td>61</td>\n",
       "      <td>70</td>\n",
       "      <td>1</td>\n",
       "    </tr>\n",
       "    <tr>\n",
       "      <th>17652</th>\n",
       "      <td>168933.0</td>\n",
       "      <td>07 I. Paskov</td>\n",
       "      <td>33.0</td>\n",
       "      <td>Bulgaria</td>\n",
       "      <td></td>\n",
       "      <td>SUB</td>\n",
       "      <td>€0</td>\n",
       "      <td>43</td>\n",
       "      <td>42</td>\n",
       "      <td>1</td>\n",
       "    </tr>\n",
       "    <tr>\n",
       "      <th>17653</th>\n",
       "      <td></td>\n",
       "      <td></td>\n",
       "      <td></td>\n",
       "      <td></td>\n",
       "      <td></td>\n",
       "      <td>SUB Subtotal</td>\n",
       "      <td>€15256.5M</td>\n",
       "      <td>63</td>\n",
       "      <td>70</td>\n",
       "      <td>1</td>\n",
       "    </tr>\n",
       "  </tbody>\n",
       "</table>\n",
       "<p>17654 rows × 10 columns</p>\n",
       "</div>"
      ],
      "text/plain": [
       "             ID            Name   Age    Nationality                 Club  \\\n",
       "0      222665.0     M. Ødegaard  23.0         Norway              Arsenal   \n",
       "1      189596.0       T. Müller  32.0        Germany    FC Bayern München   \n",
       "2      216594.0        N. Fekir  28.0         France  Real Betis Balompié   \n",
       "3      220697.0     J. Maddison  25.0        England       Leicester City   \n",
       "4      188350.0         M. Reus  33.0        Germany    Borussia Dortmund   \n",
       "...         ...             ...   ...            ...                  ...   \n",
       "17649  261630.0   21 H. Kerrido  26.0       Cameroon                        \n",
       "17650  253949.0      20 R. Goss  25.0   South Africa                        \n",
       "17651  252359.0  21 E. Ira Tape  22.0  Côte d'Ivoire                        \n",
       "17652  168933.0    07 I. Paskov  33.0       Bulgaria                        \n",
       "17653                                                                       \n",
       "\n",
       "           Position      Value  Overall  Potential  International Reputation  \n",
       "0               CAM     €63.5M       84         89                         3  \n",
       "1               CAM       €63M       87         87                         4  \n",
       "2               CAM     €54.5M       85         85                         3  \n",
       "3               CAM       €38M       82         84                         1  \n",
       "4               CAM     €33.5M       85         85                         4  \n",
       "...             ...        ...      ...        ...                       ...  \n",
       "17649           SUB         €0       60         63                         1  \n",
       "17650           SUB         €0       61         65                         1  \n",
       "17651           SUB         €0       61         70                         1  \n",
       "17652           SUB         €0       43         42                         1  \n",
       "17653  SUB Subtotal  €15256.5M       63         70                         1  \n",
       "\n",
       "[17654 rows x 10 columns]"
      ]
     },
     "execution_count": 35,
     "metadata": {},
     "output_type": "execute_result"
    }
   ],
   "source": [
    "df_new_new"
   ]
  },
  {
   "cell_type": "markdown",
   "id": "fa91fef4-eb75-40b8-8b50-46db03da076c",
   "metadata": {},
   "source": [
    "### Transformation in Excel\n",
    "\n",
    "- Creating Subtotals\n",
    "- Inserting subtotal rows for grouped data\n",
    "- Formatting subtotal rows differently"
   ]
  },
  {
   "cell_type": "code",
   "execution_count": 37,
   "id": "a36e9898-db67-4523-a254-678d17e8dbab",
   "metadata": {
    "editable": true,
    "slideshow": {
     "slide_type": ""
    },
    "tags": []
   },
   "outputs": [],
   "source": [
    "num_of_rows = len(df_new_new)"
   ]
  },
  {
   "cell_type": "code",
   "execution_count": 38,
   "id": "9be78127-637f-44b1-8d8f-6697365ddd21",
   "metadata": {},
   "outputs": [],
   "source": [
    "wb = Workbook()\n",
    "ws = wb.active\n",
    "for r in dataframe_to_rows(df_new_new, index=False, header=True): # if index = True add one row between header and the values\n",
    "    ws.append(r)"
   ]
  },
  {
   "cell_type": "code",
   "execution_count": 39,
   "id": "1c20c16a-38b8-42f8-9d3f-b4f559f96082",
   "metadata": {
    "tags": []
   },
   "outputs": [],
   "source": [
    "for name in position_list:\n",
    "\n",
    "    start = df_new_new[df_new_new['Position'] == name].index[0]+2\n",
    "    end = df_new_new[df_new_new['Position'] == name].index[-1]+2\n",
    "    ws.row_dimensions.group(start, end, hidden=True)\n"
   ]
  },
  {
   "cell_type": "code",
   "execution_count": 40,
   "id": "2686533b-5d0c-4f65-b778-a4af51e59050",
   "metadata": {},
   "outputs": [],
   "source": [
    "# Get the position of the columns and then the column letter based in excel\n",
    "list_of_columns_name = df_new_new.columns\n",
    "dict_col = {}\n",
    "\n",
    "for col in range(len(list_of_columns_name)):\n",
    "    coordinate = ws[1][col].coordinate\n",
    "    coordinate = coordinate.replace('1','')\n",
    "    dict_col[list_of_columns_name[col]] = coordinate\n"
   ]
  },
  {
   "cell_type": "code",
   "execution_count": 41,
   "id": "43dae24d-36b3-4daa-85b0-954d14fbcb57",
   "metadata": {},
   "outputs": [],
   "source": [
    "list_strings = df_new_new.columns[:6]\n",
    "list_values = df_new_new.columns[-4:]"
   ]
  },
  {
   "cell_type": "code",
   "execution_count": 42,
   "id": "4bc69910-5a2c-40df-b9b0-9f0c0a02ac0a",
   "metadata": {
    "tags": []
   },
   "outputs": [],
   "source": [
    "# Format for all columns\n",
    "for col in dict_col.values():\n",
    "    for row in range(num_of_rows+1):\n",
    "        ws[col+str(row+1)].border = thin_border"
   ]
  },
  {
   "cell_type": "code",
   "execution_count": 43,
   "id": "9f4b2737-6e81-4f5a-b540-28fcc95d1a44",
   "metadata": {},
   "outputs": [],
   "source": [
    "# Format for countries\n",
    "for col in list_strings:\n",
    "    for row in range(num_of_rows+1):\n",
    "        #ws[dict_col[col]+str(row+1)].font = Font(bold = True)\n",
    "        ws[dict_col[col]+str(row+1)].alignment  = Alignment(horizontal='left')\n",
    "        \n",
    "        if ws[dict_col['Position']+str(row+1)].value.endswith('Subtotal') == True:\n",
    "            ws[dict_col[col]+str(row+1)].font = Font(bold = True)"
   ]
  },
  {
   "cell_type": "code",
   "execution_count": 44,
   "id": "16be8aad-1941-4375-8171-d058c4bc0621",
   "metadata": {},
   "outputs": [],
   "source": [
    "# Format for values\n",
    "for col in list_values:\n",
    "    for row in range(num_of_rows+1):\n",
    "        #ws[dict_col[col]+str(row+1)].font = Font(bold = True)\n",
    "        ws[dict_col[col]+str(row+1)].alignment  = Alignment(horizontal='right')\n",
    "        #ws[dict_col[col]+str(row+1)].number_format = '€#,##0.00'\n",
    "        \n",
    "        if ws[dict_col['Position']+str(row+1)].value.endswith('Subtotal') == True:\n",
    "            ws[dict_col[col]+str(row+1)].font = Font(bold = True)"
   ]
  },
  {
   "cell_type": "code",
   "execution_count": 45,
   "id": "64d16f6f-bf47-44d5-9c90-139aaddbe5a0",
   "metadata": {},
   "outputs": [],
   "source": [
    "# Format for headers\n",
    "for col in dict_col.values():\n",
    "    ws[col+str(1)].font = Font(bold = True)\n",
    "    ws[col+str(1)].alignment  = Alignment(horizontal='center', vertical = 'center', wrapText = True)\n",
    "    ws[col+str(1)].border = thick_border\n",
    "    ws[col+str(1)].fill = light_greyFill"
   ]
  },
  {
   "cell_type": "code",
   "execution_count": 46,
   "id": "c723d56a-de08-429e-822f-adadd6d76630",
   "metadata": {},
   "outputs": [],
   "source": [
    "adjust_column_width(ws)"
   ]
  },
  {
   "cell_type": "code",
   "execution_count": 47,
   "id": "08eb7c46-6d12-4a90-b278-28e9383403ae",
   "metadata": {
    "editable": true,
    "slideshow": {
     "slide_type": ""
    },
    "tags": []
   },
   "outputs": [],
   "source": [
    "wb.save( \"ManipulationAndSubotals.xlsx\")"
   ]
  }
 ],
 "metadata": {
  "kernelspec": {
   "display_name": "Python 3 (ipykernel)",
   "language": "python",
   "name": "python3"
  },
  "language_info": {
   "codemirror_mode": {
    "name": "ipython",
    "version": 3
   },
   "file_extension": ".py",
   "mimetype": "text/x-python",
   "name": "python",
   "nbconvert_exporter": "python",
   "pygments_lexer": "ipython3",
   "version": "3.11.5"
  }
 },
 "nbformat": 4,
 "nbformat_minor": 5
}
