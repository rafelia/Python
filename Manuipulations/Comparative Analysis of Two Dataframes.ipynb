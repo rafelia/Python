{
 "cells": [
  {
   "cell_type": "markdown",
   "id": "2d6003f8-cab3-45c8-ad38-310568c65efc",
   "metadata": {},
   "source": [
    "- Importing necessary libraries\n",
    "- Utility functions for Excel formatting (e.g., adjusting column width)"
   ]
  },
  {
   "cell_type": "code",
   "execution_count": 2,
   "id": "6ce1ffe0-b78c-4068-9501-b353665e9198",
   "metadata": {
    "tags": []
   },
   "outputs": [],
   "source": [
    "import pandas as pd\n",
    "from bs4 import BeautifulSoup\n",
    "import numpy as np\n",
    "\n",
    "\n",
    "# Excel Formating Libraries\n",
    "from openpyxl import Workbook\n",
    "from openpyxl.utils.dataframe import dataframe_to_rows\n",
    "from openpyxl.styles import PatternFill, Font, Border, Side, Alignment\n",
    "from openpyxl.utils import get_column_letter"
   ]
  },
  {
   "cell_type": "code",
   "execution_count": 4,
   "id": "452f9cf5-aefc-44e9-989e-94097e2f3a1f",
   "metadata": {
    "tags": []
   },
   "outputs": [],
   "source": [
    "def adjust_column_width(worksheet):\n",
    "    for column in worksheet.columns:\n",
    "        max_length = 0\n",
    "        column_letter = get_column_letter(column[0].column)  # Get the column letter\n",
    "\n",
    "        for cell in column:\n",
    "            try: \n",
    "                # Check the length of the cell value\n",
    "                if len(cell.value) > max_length:\n",
    "                    max_length = len(cell.value)\n",
    "            except:\n",
    "                pass\n",
    "\n",
    "        adjusted_width = (max_length + 2)  # Add 2 for a little extra space\n",
    "        worksheet.column_dimensions[column_letter].width = adjusted_width"
   ]
  },
  {
   "cell_type": "code",
   "execution_count": 5,
   "id": "1c0399d0-43e6-42a8-b324-e1a6db13f9dc",
   "metadata": {
    "tags": []
   },
   "outputs": [],
   "source": [
    "def extract_text_from_html(html):\n",
    "    soup = BeautifulSoup(html, 'html.parser')\n",
    "    return soup.get_text()"
   ]
  },
  {
   "cell_type": "code",
   "execution_count": 6,
   "id": "48f77e87-df6f-4213-aa6b-e6332ba412b1",
   "metadata": {
    "tags": []
   },
   "outputs": [],
   "source": [
    "df_copy = pd.read_csv('FIFA23_official_data.csv')\n",
    "df = df_copy.copy()\n",
    "\n",
    "df_copy2 = pd.read_csv('FIFA22_official_data.csv')\n",
    "df2 = df_copy2.copy()"
   ]
  },
  {
   "cell_type": "markdown",
   "id": "b3d2e602-7942-4506-b5ff-2a1c3028f46e",
   "metadata": {},
   "source": [
    "### Data Cleaning\n",
    "\n",
    "- Standardizing data formats (e.g., converting values to numeric)\n",
    "- Sorting and ordering based on position\n",
    "- Handling missing values and dropping unnecessary columns"
   ]
  },
  {
   "cell_type": "code",
   "execution_count": 8,
   "id": "f82f8631-a4a9-4280-ac8e-2209fb907707",
   "metadata": {
    "tags": []
   },
   "outputs": [],
   "source": [
    "for row in range(len(df2['Position'])):\n",
    "    if df2['Position'].isna().iloc[row] == False:\n",
    "        df2.iloc[row, 20] = extract_text_from_html(df2.iloc[row,20])"
   ]
  },
  {
   "cell_type": "code",
   "execution_count": 9,
   "id": "7bae92d4-da47-4250-8b01-31ead51b8454",
   "metadata": {
    "tags": []
   },
   "outputs": [],
   "source": [
    "for row in range(len(df['Position'])):\n",
    "    if df['Position'].isna().iloc[row] == False:\n",
    "        df.iloc[row, 20] = extract_text_from_html(df.iloc[row,20])"
   ]
  },
  {
   "cell_type": "code",
   "execution_count": 10,
   "id": "312311d6-de8b-4491-bde3-c16ea981ed19",
   "metadata": {
    "tags": []
   },
   "outputs": [],
   "source": [
    "df['ID'] = df['ID'].astype(str)\n",
    "\n",
    "df['Value_No'] = df['Value'].str.replace('[^\\d.]','',regex = True)\n",
    "\n",
    "value_no_copy = df['Value_No'].copy()\n",
    "\n",
    "for index, value in df['Value'].items():\n",
    "\n",
    "    if value[-1] == 'M':\n",
    "        value_no_copy[index] = int(float(value_no_copy[index]) * 1000000)\n",
    "    elif value[-1] == 'K':\n",
    "        value_no_copy[index] = int(float(value_no_copy[index]) * 1000)\n",
    "\n",
    "df['Value_No'] = value_no_copy\n",
    "\n",
    "df['Value_No'] = df['Value_No'].astype(int)"
   ]
  },
  {
   "cell_type": "code",
   "execution_count": 11,
   "id": "78e29e0c-5ffb-466f-b2aa-375e591e7b1b",
   "metadata": {
    "tags": []
   },
   "outputs": [],
   "source": [
    "df2['ID'] = df2['ID'].astype(str)\n",
    "\n",
    "df2['Value_No'] = df2['Value'].str.replace('[^\\d.]','',regex = True)\n",
    "\n",
    "value_no_copy2 = df2['Value_No'].copy()\n",
    "\n",
    "for index, value in df2['Value'].items():\n",
    "\n",
    "    if value[-1] == 'M':\n",
    "        value_no_copy2[index] = int(float(value_no_copy2[index]) * 1000000)\n",
    "    elif value[-1] == 'K':\n",
    "        value_no_copy2[index] = int(float(value_no_copy2[index]) * 1000)\n",
    "\n",
    "df2['Value_No'] = value_no_copy2\n",
    "\n",
    "\n",
    "df2['Value_No'] = df2['Value_No'].astype(int)"
   ]
  },
  {
   "cell_type": "code",
   "execution_count": 14,
   "id": "5a9f5ce3-e92b-4a19-a17e-44028b3bfa3e",
   "metadata": {
    "editable": true,
    "slideshow": {
     "slide_type": ""
    },
    "tags": []
   },
   "outputs": [],
   "source": [
    "df_new = df[['ID', 'Name', 'Club', 'Position','Value', 'Overall', 'Value_No']]\n",
    "\n",
    "df_new = df_new[df_new['Position'].isna() != True]"
   ]
  },
  {
   "cell_type": "code",
   "execution_count": 15,
   "id": "6319416e-0497-43e2-99c2-f58d9cfec1a8",
   "metadata": {
    "tags": []
   },
   "outputs": [],
   "source": [
    "df_new2 = df2[['ID', 'Name', 'Club', 'Position','Value', 'Overall', 'Value_No']]\n",
    "\n",
    "\n",
    "df_new2 = df_new2[df_new2['Position'].isna() != True]"
   ]
  },
  {
   "cell_type": "code",
   "execution_count": 16,
   "id": "6db1ab7b-b2c3-466c-96e7-332f62841bf9",
   "metadata": {
    "tags": []
   },
   "outputs": [],
   "source": [
    "position_order = ['GK', 'CB', 'LCB', 'RCB', 'LB', 'RB', 'LWB', 'RWB', 'CDM', 'LDM', 'RDM', 'CM', 'LCM', 'RCM', 'LM', 'RM', 'LAM', 'RAM', 'CAM', 'LW', 'RW', 'LF', 'RF', 'LS', 'RS', 'CF', 'ST', 'SUB', 'RES']\n",
    "\n",
    "df_new.loc[:,'Position'] = pd.Categorical(df_new['Position'], categories = position_order, ordered = True)\n",
    "\n",
    "df_new = df_new.sort_values(by=['Position', 'Value_No'], ascending = [True, False])\n",
    "\n",
    "df_new.reset_index(inplace = True, drop = True)"
   ]
  },
  {
   "cell_type": "code",
   "execution_count": 17,
   "id": "5728d71a-9edb-42d3-ac20-024e3f7a2158",
   "metadata": {
    "tags": []
   },
   "outputs": [],
   "source": [
    "position_order2 = ['GK', 'CB', 'LCB', 'RCB', 'LB', 'RB', 'LWB', 'RWB', 'CDM', 'LDM', 'RDM', 'CM', 'LCM', 'RCM', 'LM', 'RM', 'LAM', 'RAM', 'CAM', 'LW', 'RW', 'LF', 'RF', 'LS', 'RS', 'CF', 'ST', 'SUB', 'RES']\n",
    "\n",
    "df_new2.loc[:,'Position'] = pd.Categorical(df_new2['Position'], categories = position_order2, ordered = True)\n",
    "\n",
    "df_new2 = df_new2.sort_values(by=['Position', 'Value_No'], ascending = [True, False])\n",
    "\n",
    "df_new2.reset_index(inplace = True, drop = True)"
   ]
  },
  {
   "cell_type": "markdown",
   "id": "65585dda-17ed-4103-8ab1-072041dc61f7",
   "metadata": {},
   "source": [
    "- Merging two datasets for comparison\n",
    "- Computing percentage differences between datasets"
   ]
  },
  {
   "cell_type": "code",
   "execution_count": 19,
   "id": "297678ac-a87d-4661-85f7-4f78ed09ce28",
   "metadata": {
    "tags": []
   },
   "outputs": [],
   "source": [
    "df_merge = df_new.merge(df_new2, how = 'inner', left_on = ['ID','Position'], right_on = ['ID','Position'], suffixes = ('_2023', '_2022'))"
   ]
  },
  {
   "cell_type": "code",
   "execution_count": 20,
   "id": "ae7e142b-983f-413c-af0c-bee25a9e5492",
   "metadata": {
    "tags": []
   },
   "outputs": [],
   "source": [
    "df_merge.rename(columns = {'Name_2023':'Name','Club_2023':'Club'}, inplace = True)"
   ]
  },
  {
   "cell_type": "code",
   "execution_count": 21,
   "id": "cdd62508-f2c1-4478-9e09-fd2c93f49f1f",
   "metadata": {
    "tags": []
   },
   "outputs": [],
   "source": [
    "df_merge.drop(columns = ['Name_2022', 'Club_2022'], axis = 1, inplace = True)"
   ]
  },
  {
   "cell_type": "code",
   "execution_count": 22,
   "id": "543e8400-3e89-4480-8e7b-ffb1eb2e45c7",
   "metadata": {
    "tags": []
   },
   "outputs": [],
   "source": [
    "position_list = df_merge['Position'].unique()\n",
    "\n",
    "df_merge_new = df_merge.groupby('Position').agg({'Overall_2023':'mean', 'Overall_2022':'mean','Value_No_2023':'sum','Value_No_2022':'sum'})\n",
    "df_merge_new.reset_index(inplace = True)\n",
    "df_merge_new['Position'] = df_merge_new['Position'].astype(str)\n",
    "df_merge_new['Position'] = df_merge_new['Position'] + ' Subtotal'\n",
    "\n",
    "len_list_position = len(position_order)\n",
    "for index, item in enumerate(reversed(position_order)):\n",
    "    original_index = len_list_position - 1 - index\n",
    "    position_order.insert(original_index + 1, f'{item} Subtotal')"
   ]
  },
  {
   "cell_type": "code",
   "execution_count": 23,
   "id": "b87a0892-c4f0-40c6-a3ea-246d6f9250cb",
   "metadata": {
    "tags": []
   },
   "outputs": [],
   "source": [
    "df_new_new = pd.concat([df_merge, df_merge_new])\n",
    "\n",
    "df_new_new = df_new_new.fillna('')\n",
    "\n",
    "df_new_new.loc[df_new_new['Position'].str.endswith(' Subtotal'), 'Value_2023'] = round(df_new_new.loc[df_new_new['Position'].str.endswith(' Subtotal'), 'Value_No_2023']/1000000,1)\n",
    "df_new_new['Value_2023'] = df_new_new['Value_2023'].astype(str)\n",
    "df_new_new.loc[df_new_new['Position'].str.endswith(' Subtotal'), 'Value_2023'] = '€' + df_new_new.loc[df_new_new['Position'].str.endswith(' Subtotal'), 'Value_2023'] + 'M'\n",
    "\n",
    "df_new_new.loc[df_new_new['Position'].str.endswith(' Subtotal'), 'Value_2022'] = round(df_new_new.loc[df_new_new['Position'].str.endswith(' Subtotal'), 'Value_No_2022']/1000000,1)\n",
    "df_new_new['Value_2022'] = df_new_new['Value_2022'].astype(str)\n",
    "df_new_new.loc[df_new_new['Position'].str.endswith(' Subtotal'), 'Value_2022'] = '€' + df_new_new.loc[df_new_new['Position'].str.endswith(' Subtotal'), 'Value_2022'] + 'M'"
   ]
  },
  {
   "cell_type": "code",
   "execution_count": 24,
   "id": "6043ea21-6e82-4e87-a03b-7a4daf703603",
   "metadata": {
    "tags": []
   },
   "outputs": [],
   "source": [
    "#Calculate the pct dif\n",
    "df_new_new['Value_No Pct Dif'] = round(((df_new_new['Value_No_2023'] - df_new_new['Value_No_2022'] ) / df_new_new['Value_No_2022']) * 100,2)\n",
    "df_new_new['Overall Pct Dif'] = round(((df_new_new['Overall_2023'] - df_new_new['Overall_2022'] ) / df_new_new['Overall_2022']) * 100,2)"
   ]
  },
  {
   "cell_type": "code",
   "execution_count": 25,
   "id": "8d626b1e-4391-4c36-92fb-15139cacc6f0",
   "metadata": {
    "tags": []
   },
   "outputs": [],
   "source": [
    "df_new_new[['Value_No Pct Dif','Overall Pct Dif']] = round(df_new_new[['Value_No Pct Dif','Overall Pct Dif']],2)\n",
    "df_new_new[['Overall_2023', 'Overall_2022']] = round(df_new_new[['Overall_2023', 'Overall_2022']],0)\n",
    "df_new_new[['Overall_2023','Overall_2022']] = df_new_new[['Overall_2023','Overall_2022']].astype('Int64')\n",
    "\n",
    "df_new_new['Position'] = df_new_new['Position'].astype(str)"
   ]
  },
  {
   "cell_type": "code",
   "execution_count": 26,
   "id": "2c6fedc2-4612-46d1-b876-693753e8136d",
   "metadata": {
    "tags": []
   },
   "outputs": [],
   "source": [
    "df_new_new[['Value_No Pct Dif','Overall Pct Dif','Value_2022']] = df_new_new[['Value_No Pct Dif','Overall Pct Dif','Value_2022']].fillna('')\n",
    "df_new_new[['Overall_2023', 'Overall_2022', 'Value_2023']] = df_new_new[['Overall_2023', 'Overall_2022','Value_2023']].fillna(0)"
   ]
  },
  {
   "cell_type": "code",
   "execution_count": 27,
   "id": "61146884-fbc6-432f-9d06-d0deb92e3bab",
   "metadata": {
    "tags": []
   },
   "outputs": [],
   "source": [
    "merge_position_order = [element for element in position_order if element in df_new_new['Position'].unique()]"
   ]
  },
  {
   "cell_type": "code",
   "execution_count": 28,
   "id": "d8a5d09b-3638-4862-b82f-ce5d3476d77a",
   "metadata": {
    "tags": []
   },
   "outputs": [],
   "source": [
    "df_new_new['Position'] = pd.Categorical(df_new_new['Position'], categories=merge_position_order, ordered=True)\n",
    "\n",
    "df_new_new = df_new_new.sort_values(by=['Position', 'Value_No_2023'], ascending=[True, False])\n",
    "\n",
    "df_new_new.reset_index(inplace = True, drop = True)"
   ]
  },
  {
   "cell_type": "code",
   "execution_count": 29,
   "id": "8f08a6fc-0536-4993-bbe7-85ce97985dd7",
   "metadata": {
    "tags": []
   },
   "outputs": [],
   "source": [
    "df_new_new = df_new_new[['ID', 'Name', 'Club', 'Position', 'Value_2023','Value_2022','Value_No Pct Dif'\n",
    "                     ,'Overall_2023','Overall_2022','Overall Pct Dif']]"
   ]
  },
  {
   "cell_type": "code",
   "execution_count": 30,
   "id": "d03a088b-9256-43d5-8a29-aebbec30f85d",
   "metadata": {
    "tags": []
   },
   "outputs": [],
   "source": [
    "df_new_new[['Overall_2023','Overall_2022','Overall Pct Dif','Position']] = df_new_new[['Overall_2023','Overall_2022','Overall Pct Dif','Position']].astype(str)"
   ]
  },
  {
   "cell_type": "code",
   "execution_count": 31,
   "id": "e5ade139-1938-4aa3-8db3-b3a35e3d96b3",
   "metadata": {
    "tags": []
   },
   "outputs": [],
   "source": [
    "df_new_new.loc[df_new_new['Value_No Pct Dif'] == '', 'Value_No Pct Dif'] = 0"
   ]
  },
  {
   "cell_type": "code",
   "execution_count": 32,
   "id": "a36e9898-db67-4523-a254-678d17e8dbab",
   "metadata": {
    "tags": []
   },
   "outputs": [],
   "source": [
    "num_of_rows = len(df_new_new)"
   ]
  },
  {
   "cell_type": "code",
   "execution_count": 33,
   "id": "d0f17c3a-6014-4af1-86be-608f7c77001f",
   "metadata": {
    "tags": []
   },
   "outputs": [],
   "source": [
    "# Colors\n",
    "light_greyFill = PatternFill(start_color='FFCCCCCC',\n",
    "                       end_color='FFCCCCCC',\n",
    "                       fill_type='solid')\n",
    "\n",
    "#Size of the borders\n",
    "thin_border = Border(left=Side(style='thin', color = '00000000'), \n",
    "                     right=Side(style='thin', color = '00000000'), \n",
    "                     top=Side(style='thin', color = '00000000'), \n",
    "                     bottom=Side(style='thin', color = '00000000'))\n",
    "\n",
    "thick_border = Border(left=Side(style='thick', color = '00000000'), \n",
    "                     right=Side(style='thick', color = '00000000'), \n",
    "                     top=Side(style='thick', color = '00000000'), \n",
    "                     bottom=Side(style='thick', color = '00000000'))"
   ]
  },
  {
   "cell_type": "markdown",
   "id": "f5ba5855-ef68-45d1-a37b-225067be6805",
   "metadata": {
    "editable": true,
    "slideshow": {
     "slide_type": ""
    },
    "tags": []
   },
   "source": [
    "### Transformation in Excel\n",
    "- Summarizing value changes\n",
    "- Formatting subtotal rows"
   ]
  },
  {
   "cell_type": "code",
   "execution_count": 35,
   "id": "9be78127-637f-44b1-8d8f-6697365ddd21",
   "metadata": {
    "tags": []
   },
   "outputs": [],
   "source": [
    "wb = Workbook()\n",
    "ws = wb.active\n",
    "for r in dataframe_to_rows(df_new_new, index=False, header=True): # if index = True add one row between header and the values\n",
    "    ws.append(r)"
   ]
  },
  {
   "cell_type": "code",
   "execution_count": 36,
   "id": "1c20c16a-38b8-42f8-9d3f-b4f559f96082",
   "metadata": {
    "tags": []
   },
   "outputs": [],
   "source": [
    "for name in position_list:\n",
    "\n",
    "    start = df_new_new[df_new_new['Position'] == name].index[0]+2\n",
    "    end = df_new_new[df_new_new['Position'] == name].index[-1]+2\n",
    "    ws.row_dimensions.group(start, end, hidden=True)\n"
   ]
  },
  {
   "cell_type": "code",
   "execution_count": 37,
   "id": "2686533b-5d0c-4f65-b778-a4af51e59050",
   "metadata": {
    "tags": []
   },
   "outputs": [],
   "source": [
    "# Get the position of the columns and then the column letter based in excel\n",
    "list_of_columns_name = df_merge.columns\n",
    "dict_col = {}\n",
    "\n",
    "for col in range(len(list_of_columns_name)):\n",
    "    coordinate = ws[1][col].coordinate\n",
    "    coordinate = coordinate.replace('1','')\n",
    "    dict_col[list_of_columns_name[col]] = coordinate\n"
   ]
  },
  {
   "cell_type": "code",
   "execution_count": 38,
   "id": "43dae24d-36b3-4daa-85b0-954d14fbcb57",
   "metadata": {
    "tags": []
   },
   "outputs": [],
   "source": [
    "list_strings = df_merge.columns[:4]\n",
    "list_values = df_merge.columns[-6:]"
   ]
  },
  {
   "cell_type": "code",
   "execution_count": 39,
   "id": "6bfdf019-146d-47d9-b9ca-96596d61682f",
   "metadata": {
    "tags": []
   },
   "outputs": [
    {
     "data": {
      "text/plain": [
       "Index(['ID', 'Name', 'Club', 'Position'], dtype='object')"
      ]
     },
     "execution_count": 39,
     "metadata": {},
     "output_type": "execute_result"
    }
   ],
   "source": [
    "list_strings"
   ]
  },
  {
   "cell_type": "code",
   "execution_count": 40,
   "id": "9e39fbee-811e-4ad0-a507-ad6bce133b1d",
   "metadata": {
    "tags": []
   },
   "outputs": [
    {
     "data": {
      "text/plain": [
       "Index(['Value_2023', 'Overall_2023', 'Value_No_2023', 'Value_2022',\n",
       "       'Overall_2022', 'Value_No_2022'],\n",
       "      dtype='object')"
      ]
     },
     "execution_count": 40,
     "metadata": {},
     "output_type": "execute_result"
    }
   ],
   "source": [
    "list_values"
   ]
  },
  {
   "cell_type": "code",
   "execution_count": 41,
   "id": "4bc69910-5a2c-40df-b9b0-9f0c0a02ac0a",
   "metadata": {
    "tags": []
   },
   "outputs": [],
   "source": [
    "# Format for all columns\n",
    "for col in dict_col.values():\n",
    "    for row in range(num_of_rows+1):\n",
    "        ws[col+str(row+1)].border = thin_border"
   ]
  },
  {
   "cell_type": "code",
   "execution_count": 42,
   "id": "9f4b2737-6e81-4f5a-b540-28fcc95d1a44",
   "metadata": {
    "tags": []
   },
   "outputs": [],
   "source": [
    "# Format for countries\n",
    "for col in list_strings:\n",
    "    for row in range(num_of_rows+1):\n",
    "        #ws[dict_col[col]+str(row+1)].font = Font(bold = True)\n",
    "        ws[dict_col[col]+str(row+1)].alignment  = Alignment(horizontal='left')\n",
    "        \n",
    "        if ws[dict_col['Position']+str(row+1)].value.endswith('Subtotal') == True:\n",
    "            ws[dict_col[col]+str(row+1)].font = Font(bold = True)"
   ]
  },
  {
   "cell_type": "code",
   "execution_count": 43,
   "id": "16be8aad-1941-4375-8171-d058c4bc0621",
   "metadata": {
    "tags": []
   },
   "outputs": [],
   "source": [
    "# Format for values\n",
    "for col in list_values:\n",
    "    for row in range(num_of_rows+1):\n",
    "        #ws[dict_col[col]+str(row+1)].font = Font(bold = True)\n",
    "        ws[dict_col[col]+str(row+1)].alignment  = Alignment(horizontal='right')\n",
    "        #ws[dict_col[col]+str(row+1)].number_format = '€#,##0.00'\n",
    "        \n",
    "        if ws[dict_col['Position']+str(row+1)].value.endswith('Subtotal') == True:\n",
    "            ws[dict_col[col]+str(row+1)].font = Font(bold = True)"
   ]
  },
  {
   "cell_type": "code",
   "execution_count": 44,
   "id": "64d16f6f-bf47-44d5-9c90-139aaddbe5a0",
   "metadata": {
    "tags": []
   },
   "outputs": [],
   "source": [
    "# Format for headers\n",
    "for col in dict_col.values():\n",
    "    ws[col+str(1)].font = Font(bold = True)\n",
    "    ws[col+str(1)].alignment  = Alignment(horizontal='center', vertical = 'center', wrapText = True)\n",
    "    ws[col+str(1)].border = thick_border\n",
    "    ws[col+str(1)].fill = light_greyFill"
   ]
  },
  {
   "cell_type": "code",
   "execution_count": 45,
   "id": "c723d56a-de08-429e-822f-adadd6d76630",
   "metadata": {
    "tags": []
   },
   "outputs": [],
   "source": [
    "adjust_column_width(ws)"
   ]
  },
  {
   "cell_type": "code",
   "execution_count": 46,
   "id": "08eb7c46-6d12-4a90-b278-28e9383403ae",
   "metadata": {
    "editable": true,
    "slideshow": {
     "slide_type": ""
    },
    "tags": []
   },
   "outputs": [],
   "source": [
    "wb.save( \"ManipulationsOfTwoDataframes.xlsx\")"
   ]
  }
 ],
 "metadata": {
  "kernelspec": {
   "display_name": "Python 3 (ipykernel)",
   "language": "python",
   "name": "python3"
  },
  "language_info": {
   "codemirror_mode": {
    "name": "ipython",
    "version": 3
   },
   "file_extension": ".py",
   "mimetype": "text/x-python",
   "name": "python",
   "nbconvert_exporter": "python",
   "pygments_lexer": "ipython3",
   "version": "3.11.5"
  }
 },
 "nbformat": 4,
 "nbformat_minor": 5
}
