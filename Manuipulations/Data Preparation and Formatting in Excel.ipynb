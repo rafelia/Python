{
 "cells": [
  {
   "cell_type": "markdown",
   "id": "3bb970e3-5a0a-477f-802d-d947f36fb6f7",
   "metadata": {
    "editable": true,
    "slideshow": {
     "slide_type": ""
    },
    "tags": []
   },
   "source": [
    "- Importing necessary libraries\n",
    "- Utility functions for Excel formatting (e.g., adjusting column width)"
   ]
  },
  {
   "cell_type": "code",
   "execution_count": 2,
   "id": "37549a01-1845-48e4-bce4-00422cc8f48b",
   "metadata": {
    "editable": true,
    "slideshow": {
     "slide_type": ""
    },
    "tags": []
   },
   "outputs": [],
   "source": [
    "#Collect Eusostat data\n",
    "from pyjstat import pyjstat\n",
    "\n",
    "\n",
    "# Data Manipulation\n",
    "import pandas as pd\n",
    "import numpy as np\n",
    "from datetime import datetime\n",
    "\n",
    "# Excel Formating Libraries\n",
    "from openpyxl import Workbook\n",
    "from openpyxl.utils.dataframe import dataframe_to_rows\n",
    "from openpyxl.styles import PatternFill, Font, Border, Side, Alignment\n",
    "from openpyxl.utils import get_column_letter\n",
    "#from openpyxl.styles import NumberFormat"
   ]
  },
  {
   "cell_type": "code",
   "execution_count": 3,
   "id": "9f1070cb-3112-4816-bd10-73921579a884",
   "metadata": {},
   "outputs": [],
   "source": [
    "# Get the data from api\n",
    "\n",
    "url = \"https://ec.europa.eu/eurostat/api/dissemination/statistics/1.0/data/nama_10_gdp?format=JSON&time=2020&time=2021&time=2022&geo=BE&geo=BG&geo=CZ&geo=DK&geo=DE&geo=EE&geo=IE&geo=EL&geo=ES&geo=FR&geo=HR&geo=IT&geo=CY&geo=LV&geo=LT&geo=LU&geo=HU&geo=MT&geo=NL&geo=AT&geo=PL&geo=PT&geo=RO&geo=SI&geo=SK&geo=FI&geo=SE&geo=IS&geo=LI&geo=NO&geo=CH&geo=UK&geo=BA&geo=ME&geo=MK&geo=AL&geo=RS&geo=TR&geo=XK&unit=CP_MEUR&na_item=B1GQ&lang=en\"\n",
    "\n",
    "# read from eurostat\n",
    "dataset = pyjstat.Dataset.read(url)\n",
    "\n",
    "# write to dataframe\n",
    "gdp = dataset.write('dataframe')"
   ]
  },
  {
   "cell_type": "code",
   "execution_count": 4,
   "id": "8a05aaa7-bd65-48bc-b6a5-147588b98cfa",
   "metadata": {
    "scrolled": true,
    "tags": []
   },
   "outputs": [
    {
     "data": {
      "text/html": [
       "<div>\n",
       "<style scoped>\n",
       "    .dataframe tbody tr th:only-of-type {\n",
       "        vertical-align: middle;\n",
       "    }\n",
       "\n",
       "    .dataframe tbody tr th {\n",
       "        vertical-align: top;\n",
       "    }\n",
       "\n",
       "    .dataframe thead th {\n",
       "        text-align: right;\n",
       "    }\n",
       "</style>\n",
       "<table border=\"1\" class=\"dataframe\">\n",
       "  <thead>\n",
       "    <tr style=\"text-align: right;\">\n",
       "      <th></th>\n",
       "      <th>Time frequency</th>\n",
       "      <th>Unit of measure</th>\n",
       "      <th>National accounts indicator (ESA 2010)</th>\n",
       "      <th>Geopolitical entity (reporting)</th>\n",
       "      <th>Time</th>\n",
       "      <th>value</th>\n",
       "    </tr>\n",
       "  </thead>\n",
       "  <tbody>\n",
       "    <tr>\n",
       "      <th>0</th>\n",
       "      <td>Annual</td>\n",
       "      <td>Current prices, million euro</td>\n",
       "      <td>Gross domestic product at market prices</td>\n",
       "      <td>Belgium</td>\n",
       "      <td>2020</td>\n",
       "      <td>463750.9</td>\n",
       "    </tr>\n",
       "    <tr>\n",
       "      <th>1</th>\n",
       "      <td>Annual</td>\n",
       "      <td>Current prices, million euro</td>\n",
       "      <td>Gross domestic product at market prices</td>\n",
       "      <td>Belgium</td>\n",
       "      <td>2021</td>\n",
       "      <td>506023.2</td>\n",
       "    </tr>\n",
       "    <tr>\n",
       "      <th>2</th>\n",
       "      <td>Annual</td>\n",
       "      <td>Current prices, million euro</td>\n",
       "      <td>Gross domestic product at market prices</td>\n",
       "      <td>Belgium</td>\n",
       "      <td>2022</td>\n",
       "      <td>563543.6</td>\n",
       "    </tr>\n",
       "    <tr>\n",
       "      <th>3</th>\n",
       "      <td>Annual</td>\n",
       "      <td>Current prices, million euro</td>\n",
       "      <td>Gross domestic product at market prices</td>\n",
       "      <td>Bulgaria</td>\n",
       "      <td>2020</td>\n",
       "      <td>61912.5</td>\n",
       "    </tr>\n",
       "    <tr>\n",
       "      <th>4</th>\n",
       "      <td>Annual</td>\n",
       "      <td>Current prices, million euro</td>\n",
       "      <td>Gross domestic product at market prices</td>\n",
       "      <td>Bulgaria</td>\n",
       "      <td>2021</td>\n",
       "      <td>71378.4</td>\n",
       "    </tr>\n",
       "  </tbody>\n",
       "</table>\n",
       "</div>"
      ],
      "text/plain": [
       "  Time frequency               Unit of measure  \\\n",
       "0         Annual  Current prices, million euro   \n",
       "1         Annual  Current prices, million euro   \n",
       "2         Annual  Current prices, million euro   \n",
       "3         Annual  Current prices, million euro   \n",
       "4         Annual  Current prices, million euro   \n",
       "\n",
       "    National accounts indicator (ESA 2010) Geopolitical entity (reporting)  \\\n",
       "0  Gross domestic product at market prices                         Belgium   \n",
       "1  Gross domestic product at market prices                         Belgium   \n",
       "2  Gross domestic product at market prices                         Belgium   \n",
       "3  Gross domestic product at market prices                        Bulgaria   \n",
       "4  Gross domestic product at market prices                        Bulgaria   \n",
       "\n",
       "   Time     value  \n",
       "0  2020  463750.9  \n",
       "1  2021  506023.2  \n",
       "2  2022  563543.6  \n",
       "3  2020   61912.5  \n",
       "4  2021   71378.4  "
      ]
     },
     "execution_count": 4,
     "metadata": {},
     "output_type": "execute_result"
    }
   ],
   "source": [
    "gdp.head()"
   ]
  },
  {
   "cell_type": "code",
   "execution_count": 5,
   "id": "edf415c9-939b-4060-8f93-d42cbc27d8bc",
   "metadata": {},
   "outputs": [],
   "source": [
    "def adjust_column_width(worksheet):\n",
    "    for column in worksheet.columns:\n",
    "        max_length = 0\n",
    "        column_letter = get_column_letter(column[0].column)  # Get the column letter\n",
    "\n",
    "        for cell in column:\n",
    "            try: \n",
    "                # Check the length of the cell value\n",
    "                if len(str(cell.value)) > max_length:\n",
    "                    max_length = len(cell.value)\n",
    "            except:\n",
    "                pass\n",
    "\n",
    "        adjusted_width = (max_length + 2)  # Add 2 for a little extra space\n",
    "        worksheet.column_dimensions[column_letter].width = adjusted_width\n"
   ]
  },
  {
   "cell_type": "markdown",
   "id": "d6ddef26-ff1b-4b46-bc4b-cc388cfbcd8c",
   "metadata": {},
   "source": [
    "Set the formatings"
   ]
  },
  {
   "cell_type": "code",
   "execution_count": 7,
   "id": "f507a8fa-31d9-4f68-8d5e-180825292723",
   "metadata": {},
   "outputs": [],
   "source": [
    "# Colors\n",
    "light_greyFill = PatternFill(start_color='FFCCCCCC',\n",
    "                       end_color='FFCCCCCC',\n",
    "                       fill_type='solid')\n",
    "\n",
    "#Size of the borders\n",
    "thin_border = Border(left=Side(style='thin', color = '00000000'), \n",
    "                     right=Side(style='thin', color = '00000000'), \n",
    "                     top=Side(style='thin', color = '00000000'), \n",
    "                     bottom=Side(style='thin', color = '00000000'))\n",
    "\n",
    "thick_border = Border(left=Side(style='thick', color = '00000000'), \n",
    "                     right=Side(style='thick', color = '00000000'), \n",
    "                     top=Side(style='thick', color = '00000000'), \n",
    "                     bottom=Side(style='thick', color = '00000000'))"
   ]
  },
  {
   "cell_type": "markdown",
   "id": "1300dd84-f143-495e-8d98-b2b9721196ba",
   "metadata": {},
   "source": [
    "### Data Cleaning\n",
    "\n",
    "- Dropping null values\n",
    "- Filling missing values\n",
    "- Replacing specific values in the dataset"
   ]
  },
  {
   "cell_type": "code",
   "execution_count": 9,
   "id": "9bddcf11-73ca-4f3e-a5b8-53f7d0ea668d",
   "metadata": {},
   "outputs": [],
   "source": [
    "gdp.dropna(subset = 'value', inplace = True)"
   ]
  },
  {
   "cell_type": "code",
   "execution_count": 10,
   "id": "37bf3d7b-6c7d-461d-ad87-c922b0f4317a",
   "metadata": {},
   "outputs": [],
   "source": [
    "gdp_pivot = pd.pivot_table(gdp, index = 'Geopolitical entity (reporting)', columns = ['Unit of measure','Time'], values= 'value')"
   ]
  },
  {
   "cell_type": "code",
   "execution_count": 11,
   "id": "255c71fa-d7fc-4217-9cb9-a9890c9b2f99",
   "metadata": {},
   "outputs": [],
   "source": [
    "gdp_pivot.reset_index(inplace = True)"
   ]
  },
  {
   "cell_type": "code",
   "execution_count": 12,
   "id": "d97f1465-7fae-44ec-8903-4d549799d5c8",
   "metadata": {},
   "outputs": [],
   "source": [
    "gdp_pivot.sort_values([('Current prices, million euro', '2022')], ascending = False, inplace = True)"
   ]
  },
  {
   "cell_type": "code",
   "execution_count": 13,
   "id": "eb7d8481-e0cb-41e4-b733-af1ff62a739f",
   "metadata": {},
   "outputs": [],
   "source": [
    "gdp_pivot.columns = [' '.join(col) for col in gdp_pivot.columns.values]"
   ]
  },
  {
   "cell_type": "code",
   "execution_count": 14,
   "id": "6bb8612a-1bfd-4327-9e70-c1cf6ee16954",
   "metadata": {},
   "outputs": [],
   "source": [
    "gdp_pivot.to_excel('without format.xlsx')"
   ]
  },
  {
   "cell_type": "code",
   "execution_count": 15,
   "id": "9156b727-df5e-45e7-9c48-c337fe827091",
   "metadata": {},
   "outputs": [],
   "source": [
    "gdp_pivot.to_excel('data_without_format.xlsx')"
   ]
  },
  {
   "cell_type": "code",
   "execution_count": 16,
   "id": "eb6d188f-ac8d-46ff-ac8b-317e97664a21",
   "metadata": {},
   "outputs": [],
   "source": [
    "gdp_pivot_ = gdp_pivot.to_dict(orient='records')"
   ]
  },
  {
   "cell_type": "markdown",
   "id": "e093ec00-3989-4b83-8c78-0a85c1afa8d7",
   "metadata": {},
   "source": [
    "### Transformation in Excel\n",
    "\n",
    "- Grouping and pivoting data\n",
    "- Merging datasets for transformation\n",
    "- Excel formating"
   ]
  },
  {
   "cell_type": "code",
   "execution_count": 19,
   "id": "64bcb3a5-005e-4f46-be01-50a1196a5137",
   "metadata": {},
   "outputs": [],
   "source": [
    "num_of_rows = gdp_pivot['Geopolitical entity (reporting) '].count()"
   ]
  },
  {
   "cell_type": "code",
   "execution_count": 21,
   "id": "29f4d23d-5468-4ff5-b502-985184938e3e",
   "metadata": {},
   "outputs": [],
   "source": [
    "wb = Workbook()\n",
    "ws = wb.active\n",
    "for r in dataframe_to_rows(gdp_pivot, index=False, header=True): # if index = True add one row between header and the values\n",
    "    ws.append(r)"
   ]
  },
  {
   "cell_type": "code",
   "execution_count": 30,
   "id": "07db01a1-4dcb-4dd7-b35f-b0087c885716",
   "metadata": {},
   "outputs": [],
   "source": [
    "# Get the position of the columns and then the column letter based in excel\n",
    "list_of_columns_name = gdp_pivot.columns\n",
    "dict_col = {}\n",
    "\n",
    "for col in range(len(list_of_columns_name)):\n",
    "    coordinate = ws[1][col].coordinate\n",
    "    coordinate = coordinate.replace('1','')\n",
    "    dict_col[list_of_columns_name[col]] = coordinate\n"
   ]
  },
  {
   "cell_type": "code",
   "execution_count": 31,
   "id": "836d6c4f-361c-4c80-bd1d-71e3349a98c6",
   "metadata": {},
   "outputs": [],
   "source": [
    "list_counties = gdp_pivot[[col for col in gdp_pivot.columns if col.startswith('Geopolitical ')]].columns\n",
    "list_values = gdp_pivot[[col for col in gdp_pivot.columns if col.startswith('Current ')]].columns"
   ]
  },
  {
   "cell_type": "code",
   "execution_count": 32,
   "id": "62207cb1-a6d9-4bb2-ba7e-13d229e4fd5c",
   "metadata": {
    "tags": []
   },
   "outputs": [],
   "source": [
    "# Format for all columns\n",
    "for col in dict_col.values():\n",
    "    for row in range(num_of_rows+1):\n",
    "        ws[col+str(row+1)].border = thin_border"
   ]
  },
  {
   "cell_type": "code",
   "execution_count": 33,
   "id": "9bc8c3f8-7fa0-45bf-8c8f-8312ceedbe0e",
   "metadata": {},
   "outputs": [],
   "source": [
    "# Format for countries\n",
    "for col in list_counties:\n",
    "    for row in range(num_of_rows+1):\n",
    "        ws[dict_col[col]+str(row+1)].font = Font(bold = True)\n",
    "        ws[dict_col[col]+str(row+1)].alignment  = Alignment(horizontal='center')"
   ]
  },
  {
   "cell_type": "code",
   "execution_count": 34,
   "id": "835906d2-4b4d-462f-a4e6-ee6400224c82",
   "metadata": {},
   "outputs": [],
   "source": [
    "# Format for values\n",
    "for col in list_values:\n",
    "    for row in range(num_of_rows+1):\n",
    "        #ws[dict_col[col]+str(row+1)].font = Font(bold = True)\n",
    "        ws[dict_col[col]+str(row+1)].alignment  = Alignment(horizontal='right')\n",
    "        ws[dict_col[col]+str(row+1)].number_format = '€#,##0.00'"
   ]
  },
  {
   "cell_type": "code",
   "execution_count": 35,
   "id": "c33c8403-8394-4867-830d-645bb26f13a9",
   "metadata": {},
   "outputs": [],
   "source": [
    "# Format for headers\n",
    "for col in dict_col.values():\n",
    "    ws[col+str(1)].font = Font(bold = True)\n",
    "    ws[col+str(1)].alignment  = Alignment(horizontal='center', vertical = 'center', wrapText = True)\n",
    "    ws[col+str(1)].border = thick_border\n",
    "    ws[col+str(1)].fill = light_greyFill"
   ]
  },
  {
   "cell_type": "code",
   "execution_count": 36,
   "id": "6c5e5e0e-9dc0-48ac-b50a-b89d26f4105f",
   "metadata": {},
   "outputs": [],
   "source": [
    "adjust_column_width(ws)"
   ]
  },
  {
   "cell_type": "code",
   "execution_count": 37,
   "id": "552aa2bf-69fb-49e8-8630-2d3bfa7a4d52",
   "metadata": {
    "editable": true,
    "slideshow": {
     "slide_type": ""
    },
    "tags": []
   },
   "outputs": [],
   "source": [
    "wb.save('Manipulations.xlsx')"
   ]
  }
 ],
 "metadata": {
  "kernelspec": {
   "display_name": "Python 3 (ipykernel)",
   "language": "python",
   "name": "python3"
  },
  "language_info": {
   "codemirror_mode": {
    "name": "ipython",
    "version": 3
   },
   "file_extension": ".py",
   "mimetype": "text/x-python",
   "name": "python",
   "nbconvert_exporter": "python",
   "pygments_lexer": "ipython3",
   "version": "3.11.5"
  }
 },
 "nbformat": 4,
 "nbformat_minor": 5
}
